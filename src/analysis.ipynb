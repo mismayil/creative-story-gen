{
 "cells": [
  {
   "cell_type": "markdown",
   "metadata": {},
   "source": [
    "### Analyze repetition parameters"
   ]
  },
  {
   "cell_type": "code",
   "execution_count": 6,
   "metadata": {},
   "outputs": [],
   "source": [
    "from utils import find_files, read_json\n",
    "from collections import defaultdict\n",
    "from matplotlib import pyplot as plt\n",
    "\n",
    "result_files = find_files(\"../experiments/outputs/claude-3-5-sonnet-20240620/pilot/**/run1\")\n",
    "\n",
    "repetition_map = {}\n",
    "\n",
    "for f in result_files:\n",
    "    results = read_json(f)\n",
    "    temperature = results[\"metadata\"][\"model_args\"][\"temperature\"]\n",
    "    top_p = results[\"metadata\"][\"model_args\"][\"top_p\"]\n",
    "\n",
    "    for sample in results[\"data\"]:\n",
    "        if temperature == 0:\n",
    "            continue\n",
    "        story = sample[\"output\"]\n",
    "        if story not in repetition_map:\n",
    "            repetition_map[story] = {\"temperature\": defaultdict(int), \"top_p\": defaultdict(int)}\n",
    "        repetition_map[story][\"temperature\"][temperature] += 1\n",
    "        repetition_map[story][\"top_p\"][top_p] += 1\n",
    "\n",
    "# compute temperature distribution\n",
    "temperature_distribution = {}\n",
    "for story, counts in repetition_map.items():\n",
    "    for temperature, count in counts[\"temperature\"].items():\n",
    "        if temperature not in temperature_distribution:\n",
    "            temperature_distribution[temperature] = []\n",
    "        temperature_distribution[temperature].append(count)\n",
    "\n",
    "# compute top_p distribution\n",
    "top_p_distribution = {}\n",
    "for story, counts in repetition_map.items():\n",
    "    for top_p, count in counts[\"top_p\"].items():\n",
    "        if top_p not in top_p_distribution:\n",
    "            top_p_distribution[top_p] = []\n",
    "        top_p_distribution[top_p].append(count)"
   ]
  },
  {
   "cell_type": "code",
   "execution_count": 7,
   "metadata": {},
   "outputs": [
    {
     "data": {
      "text/plain": [
       "{0.5: [1, 1, 1, 1, 1, 1, 1, 1, 1, 1, 1, 1, 1, 1, 1, 1, 1, 1, 1, 1, 1, 1, 1, 1],\n",
       " 0.9: [1, 1, 1, 1, 1, 1, 1, 1, 1, 1, 1, 1, 1, 1, 1, 1, 1, 1, 1, 1, 1, 1, 1, 1],\n",
       " 1.0: [1, 1, 1, 1, 1, 1, 1, 1, 1, 1, 1, 1, 1, 1, 1, 1, 1, 1, 1, 1, 1, 1, 1, 1],\n",
       " 0.7: [1, 1, 1, 1, 1, 1, 1, 1, 1, 1, 1, 1, 1, 1, 1, 1, 1, 1, 1, 1, 1, 1, 1, 1],\n",
       " 0.3: [1, 1, 1, 1, 1, 1, 2, 1, 1, 2, 1, 1, 1, 1, 1, 1, 1, 1, 1, 1, 1, 1]}"
      ]
     },
     "execution_count": 7,
     "metadata": {},
     "output_type": "execute_result"
    }
   ],
   "source": [
    "temperature_distribution"
   ]
  },
  {
   "cell_type": "code",
   "execution_count": 3,
   "metadata": {},
   "outputs": [
    {
     "data": {
      "image/png": "[encoded data removed]",
      "text/plain": [
       "<Figure size 640x480 with 1 Axes>"
      ]
     },
     "metadata": {},
     "output_type": "display_data"
    }
   ],
   "source": [
    "# plot temperature distribution\n",
    "plt.figure()\n",
    "# for temperature, counts in temperature_distribution.items():\n",
    "#     plt.hist(counts, bins=range(0, 11), alpha=0.5, label=f\"temperature={temperature}\")\n",
    "plt.hist(temperature_distribution[0.0], bins=range(0, 11), alpha=0.5, label=\"temperature=0.0\")\n",
    "plt.legend()\n",
    "plt.title(\"Temperature distribution\")\n",
    "plt.xlabel(\"Number of repetitions\")\n",
    "plt.ylabel(\"Number of stories\")\n",
    "plt.savefig(\"temperature_distribution.png\")"
   ]
  },
  {
   "cell_type": "code",
   "execution_count": 8,
   "metadata": {},
   "outputs": [
    {
     "data": {
      "text/plain": [
       "{0.9: [1, 1, 1, 1, 1, 1, 1, 1, 1, 1, 1, 1, 1, 1, 1, 1, 1, 1, 1, 1],\n",
       " 0.7: [1, 1, 1, 1, 1, 1, 1, 1, 1, 1, 1, 1, 1, 1, 1, 1, 1, 1, 1, 1],\n",
       " 1.0: [1, 1, 1, 1, 1, 1, 1, 1, 1, 1, 1, 1, 1, 1, 1, 1, 1, 1, 1, 1],\n",
       " 0.3: [2, 1, 2, 3, 3, 1, 1, 1, 1, 1, 1, 1, 1, 1],\n",
       " 0.5: [1, 1, 1, 1, 1, 1, 1, 2, 1, 1, 1, 1, 1, 1, 1, 1, 1, 1, 1],\n",
       " 0.95: [1, 1, 1, 1, 1, 1, 1, 1, 1, 1, 1, 1, 1, 1, 1, 1, 1, 1, 1, 1]}"
      ]
     },
     "execution_count": 8,
     "metadata": {},
     "output_type": "execute_result"
    }
   ],
   "source": [
    "top_p_distribution"
   ]
  }
 ],
 "metadata": {
  "kernelspec": {
   "display_name": "cs-gen",
   "language": "python",
   "name": "python3"
  },
  "language_info": {
   "codemirror_mode": {
    "name": "ipython",
    "version": 3
   },
   "file_extension": ".py",
   "mimetype": "text/x-python",
   "name": "python",
   "nbconvert_exporter": "python",
   "pygments_lexer": "ipython3",
   "version": "3.10.14"
  }
 },
 "nbformat": 4,
 "nbformat_minor": 2
}
