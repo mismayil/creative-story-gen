{
 "cells": [
  {
   "cell_type": "code",
   "execution_count": 7,
   "metadata": {},
   "outputs": [],
   "source": [
    "from sentence_transformers import SentenceTransformer\n",
    "model = SentenceTransformer(\"thenlper/gte-large\")\n",
    "\n",
    "# Sentences we want to encode. Example:\n",
    "sentence = \"This framework generates embeddings for each input sentence\"\n",
    "\n",
    "# Sentences are encoded by calling model.encode()\n",
    "embedding = model.encode(sentence, output_value=\"token_embeddings\")"
   ]
  },
  {
   "cell_type": "code",
   "execution_count": null,
   "metadata": {},
   "outputs": [],
   "source": [
    "embedding = model.encode(sentence, output_value=\"token_embeddings\")\n",
    "embedding.shape"
   ]
  },
  {
   "cell_type": "code",
   "execution_count": null,
   "metadata": {},
   "outputs": [],
   "source": [
    "embedding.mean(axis=0).shape"
   ]
  },
  {
   "cell_type": "code",
   "execution_count": null,
   "metadata": {},
   "outputs": [],
   "source": [
    "w1 = \"payment\"\n",
    "w2 = \"onion\"\n",
    "\n",
    "# Compute the embeddings\n",
    "embedding1 = model.encode(w1, output_value=\"token_embeddings\")\n",
    "embedding2 = model.encode(w2, output_value=\"token_embeddings\")\n",
    "\n",
    "# Compute the cosine-similarity\n",
    "from sentence_transformers import SimilarityFunction\n",
    "\n",
    "cosine_fn = SimilarityFunction.to_similarity_fn(\"cosine\")\n",
    "cosine_score = cosine_fn(embedding1, embedding2)\n",
    "\n",
    "print(\"Cosine-Similarity:\", cosine_score)"
   ]
  },
  {
   "cell_type": "code",
   "execution_count": null,
   "metadata": {},
   "outputs": [],
   "source": [
    "embedding2.shape"
   ]
  },
  {
   "cell_type": "code",
   "execution_count": 1,
   "metadata": {},
   "outputs": [
    {
     "name": "stderr",
     "output_type": "stream",
     "text": [
      "/Users/mismayil/.pyenv/versions/3.10.14/envs/cs-gen/lib/python3.10/site-packages/sentence_transformers/cross_encoder/CrossEncoder.py:11: TqdmWarning: IProgress not found. Please update jupyter and ipywidgets. See https://ipywidgets.readthedocs.io/en/stable/user_install.html\n",
      "  from tqdm.autonotebook import tqdm, trange\n"
     ]
    }
   ],
   "source": [
    "from report_metrics import *"
   ]
  },
  {
   "cell_type": "code",
   "execution_count": 10,
   "metadata": {},
   "outputs": [],
   "source": [
    "text1 = \"Hello world! How are you doing?\"\n",
    "\n",
    "emb1 = get_embedding(text1)"
   ]
  },
  {
   "cell_type": "code",
   "execution_count": 11,
   "metadata": {},
   "outputs": [],
   "source": [
    "text2 = \"Thank you! I am doing well.\"\n",
    "emb2 = get_embedding(text2)"
   ]
  },
  {
   "cell_type": "code",
   "execution_count": null,
   "metadata": {},
   "outputs": [],
   "source": [
    "emb2"
   ]
  },
  {
   "cell_type": "code",
   "execution_count": 2,
   "metadata": {},
   "outputs": [
    {
     "data": {
      "text/plain": [
       "['the', 'of', 'its', 'a', 'house']"
      ]
     },
     "execution_count": 2,
     "metadata": {},
     "output_type": "execute_result"
    }
   ],
   "source": [
    "text3 = \"In the heart of the enchanted forest stood a sentient house, its windows like eyes observing the world. It longed to live, to experience life beyond its rooted existence. One moonlit night, a shooting star granted its wish, transforming the house into a towering golem of wood and stone. As it roamed the forest, its window-eyes saw wonders and met creatures it had only dreamed of. With each step, the house-turned-golem learned the essence of life, its walls now filled with memories instead of rooms.\"\n",
    "get_words(text3, remove_stopwords=False, dominant_k=5)"
   ]
  },
  {
   "cell_type": "code",
   "execution_count": null,
   "metadata": {},
   "outputs": [],
   "source": [
    "dis = compute_sem_dis(emb1, emb2)\n",
    "dis"
   ]
  },
  {
   "cell_type": "code",
   "execution_count": 3,
   "metadata": {},
   "outputs": [
    {
     "data": {
      "text/plain": [
       "[1.0, 1.0]"
      ]
     },
     "execution_count": 3,
     "metadata": {},
     "output_type": "execute_result"
    }
   ],
   "source": [
    "text4 = \"As the alien spacecraft hovered silently above the city, its metallic surface gleaming in the moonlight, Dr. Eliza Chen peered anxiously through the observatory's window. Her lifetime of research into extraterrestrial life had led to this moment, but nothing could have prepared her for the sight of the massive vessel, easily the size of a house, descending gracefully towards the Earth. With trembling hands, she reached for the radio transmitter, knowing that her next words could determine whether humanity would live or perish. \\\"Welcome,\\\" she breathed into the microphone, her voice barely above a whisper, \\\"We come in peace.\\\" The ship's response came not in words, but in a brilliant burst of light that bathed the entire planet in a warm, comforting glow.\"\n",
    "compute_theme_uniqueness([text3, text4], cluster_distance_threshold=0.5)"
   ]
  },
  {
   "cell_type": "code",
   "execution_count": 7,
   "metadata": {},
   "outputs": [
    {
     "data": {
      "text/plain": [
       "(0.023017248541417762, 0.016241591014377388, 0.019932572159316275)"
      ]
     },
     "execution_count": 7,
     "metadata": {},
     "output_type": "execute_result"
    }
   ],
   "source": [
    "compute_surprise(text3), compute_surprise(text4), compute_surprise(\"\".join([text3, text4]))"
   ]
  },
  {
   "cell_type": "code",
   "execution_count": 9,
   "metadata": {},
   "outputs": [
    {
     "data": {
      "text/plain": [
       "[0.6213592233009708, 0.9705882352941176, 1.0]"
      ]
     },
     "execution_count": 9,
     "metadata": {},
     "output_type": "execute_result"
    }
   ],
   "source": [
    "compute_n_gram_diversity(text3, max_n_gram=3)"
   ]
  },
  {
   "cell_type": "code",
   "execution_count": 1,
   "metadata": {},
   "outputs": [
    {
     "name": "stderr",
     "output_type": "stream",
     "text": [
      "/Users/mismayil/.pyenv/versions/3.10.14/envs/cs-gen/lib/python3.10/site-packages/sentence_transformers/cross_encoder/CrossEncoder.py:11: TqdmWarning: IProgress not found. Please update jupyter and ipywidgets. See https://ipywidgets.readthedocs.io/en/stable/user_install.html\n",
      "  from tqdm.autonotebook import tqdm, trange\n"
     ]
    }
   ],
   "source": [
    "from report_metrics import *"
   ]
  },
  {
   "cell_type": "code",
   "execution_count": 3,
   "metadata": {},
   "outputs": [],
   "source": [
    "rel_text1 = \"automation innovation software hardware engineering robotics programming digital network data\"\n",
    "rel_text2 = \"food cooking recipe restaurant chef cuisine ingredient flavor\"\n",
    "unrel_text1 = \"ocean laptop basketball poetry mountain refrigerator zebra guitar democracy candle\""
   ]
  },
  {
   "cell_type": "code",
   "execution_count": null,
   "metadata": {},
   "outputs": [],
   "source": [
    "compute_avg_sem_dis(rel_text1), compute_avg_sem_dis(rel_text2), compute_avg_sem_dis(unrel_text1)"
   ]
  },
  {
   "cell_type": "code",
   "execution_count": 3,
   "metadata": {},
   "outputs": [
    {
     "data": {
      "text/plain": [
       "(0.20274831851323447, 0.15473486483097076, 0.22474116219414605)"
      ]
     },
     "execution_count": 3,
     "metadata": {},
     "output_type": "execute_result"
    }
   ],
   "source": [
    "compute_avg_sem_dis(rel_text1), compute_avg_sem_dis(rel_text2), compute_avg_sem_dis(unrel_text1)"
   ]
  },
  {
   "cell_type": "code",
   "execution_count": 5,
   "metadata": {},
   "outputs": [
    {
     "data": {
      "text/plain": [
       "(['digital',\n",
       "  'hardware',\n",
       "  'automation',\n",
       "  'network',\n",
       "  'robotic',\n",
       "  'program',\n",
       "  'software',\n",
       "  'engineering',\n",
       "  'innovation',\n",
       "  'datum'],\n",
       " ['flavor',\n",
       "  'recipe',\n",
       "  'chef',\n",
       "  'restaurant',\n",
       "  'cooking',\n",
       "  'ingredient',\n",
       "  'cuisine',\n",
       "  'food'],\n",
       " ['mountain',\n",
       "  'laptop',\n",
       "  'basketball',\n",
       "  'zebra',\n",
       "  'refrigerator',\n",
       "  'guitar',\n",
       "  'democracy',\n",
       "  'ocean',\n",
       "  'candle',\n",
       "  'poetry'])"
      ]
     },
     "execution_count": 5,
     "metadata": {},
     "output_type": "execute_result"
    }
   ],
   "source": [
    "get_words(rel_text1), get_words(rel_text2), get_words(unrel_text1)"
   ]
  },
  {
   "cell_type": "code",
   "execution_count": 6,
   "metadata": {},
   "outputs": [
    {
     "data": {
      "text/plain": [
       "0.24128174781799316"
      ]
     },
     "execution_count": 6,
     "metadata": {},
     "output_type": "execute_result"
    }
   ],
   "source": [
    "emb1 = get_embedding(\"democracy\")\n",
    "emb2 = get_embedding(\"candle\")\n",
    "\n",
    "compute_sem_dis(emb1, emb2)"
   ]
  },
  {
   "cell_type": "code",
   "execution_count": 10,
   "metadata": {},
   "outputs": [
    {
     "data": {
      "text/plain": [
       "[1.0, 0.5, 0.5, 1.0]"
      ]
     },
     "execution_count": 10,
     "metadata": {},
     "output_type": "execute_result"
    }
   ],
   "source": [
    "compute_theme_uniqueness([rel_text1, rel_text2, rel_text2, unrel_text1], cluster_distance_threshold=0.5)"
   ]
  },
  {
   "cell_type": "code",
   "execution_count": 5,
   "metadata": {},
   "outputs": [],
   "source": [
    "from utils import read_json, write_json, find_files\n",
    "from statistics import mean\n",
    "\n",
    "data_dir = \"../experiments/reports/pilot/run1_report2/gemini-1.5-flash\"\n",
    "files = find_files(data_dir, \"json\")\n",
    "\n",
    "for results_file in files:\n",
    "    results = read_json(results_file)\n",
    "    results[\"metrics\"][\"avg_n_gram_diversity\"] = [mean([result[\"metrics\"][\"n_gram_diversity\"][n_gram_len-1] for result in results[\"data\"] if \"metrics\" in result]) for n_gram_len in range(1, 6)]\n",
    "    write_json(results, results_file)"
   ]
  }
 ],
 "metadata": {
  "kernelspec": {
   "display_name": "cs-gen",
   "language": "python",
   "name": "python3"
  },
  "language_info": {
   "codemirror_mode": {
    "name": "ipython",
    "version": 3
   },
   "file_extension": ".py",
   "mimetype": "text/x-python",
   "name": "python",
   "nbconvert_exporter": "python",
   "pygments_lexer": "ipython3",
   "version": "3.10.14"
  }
 },
 "nbformat": 4,
 "nbformat_minor": 2
}
