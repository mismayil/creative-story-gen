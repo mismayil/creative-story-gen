{
 "cells": [
  {
   "cell_type": "code",
   "execution_count": 7,
   "metadata": {},
   "outputs": [],
   "source": [
    "from sentence_transformers import SentenceTransformer\n",
    "model = SentenceTransformer(\"thenlper/gte-large\")\n",
    "\n",
    "# Sentences we want to encode. Example:\n",
    "sentence = \"This framework generates embeddings for each input sentence\"\n",
    "\n",
    "# Sentences are encoded by calling model.encode()\n",
    "embedding = model.encode(sentence, output_value=\"token_embeddings\")"
   ]
  },
  {
   "cell_type": "code",
   "execution_count": null,
   "metadata": {},
   "outputs": [],
   "source": [
    "embedding = model.encode(sentence, output_value=\"token_embeddings\")\n",
    "embedding.shape"
   ]
  },
  {
   "cell_type": "code",
   "execution_count": null,
   "metadata": {},
   "outputs": [],
   "source": [
    "embedding.mean(axis=0).shape"
   ]
  },
  {
   "cell_type": "code",
   "execution_count": null,
   "metadata": {},
   "outputs": [],
   "source": [
    "w1 = \"payment\"\n",
    "w2 = \"onion\"\n",
    "\n",
    "# Compute the embeddings\n",
    "embedding1 = model.encode(w1, output_value=\"token_embeddings\")\n",
    "embedding2 = model.encode(w2, output_value=\"token_embeddings\")\n",
    "\n",
    "# Compute the cosine-similarity\n",
    "from sentence_transformers import SimilarityFunction\n",
    "\n",
    "cosine_fn = SimilarityFunction.to_similarity_fn(\"cosine\")\n",
    "cosine_score = cosine_fn(embedding1, embedding2)\n",
    "\n",
    "print(\"Cosine-Similarity:\", cosine_score)"
   ]
  },
  {
   "cell_type": "code",
   "execution_count": null,
   "metadata": {},
   "outputs": [],
   "source": [
    "embedding2.shape"
   ]
  },
  {
   "cell_type": "code",
   "execution_count": 1,
   "metadata": {},
   "outputs": [
    {
     "name": "stderr",
     "output_type": "stream",
     "text": [
      "/Users/mismayil/.pyenv/versions/3.10.14/envs/cs-gen/lib/python3.10/site-packages/sentence_transformers/cross_encoder/CrossEncoder.py:11: TqdmWarning: IProgress not found. Please update jupyter and ipywidgets. See https://ipywidgets.readthedocs.io/en/stable/user_install.html\n",
      "  from tqdm.autonotebook import tqdm, trange\n"
     ]
    }
   ],
   "source": [
    "from report_metrics import *"
   ]
  },
  {
   "cell_type": "code",
   "execution_count": 10,
   "metadata": {},
   "outputs": [],
   "source": [
    "text1 = \"Hello world! How are you doing?\"\n",
    "\n",
    "emb1 = get_embedding(text1)"
   ]
  },
  {
   "cell_type": "code",
   "execution_count": 11,
   "metadata": {},
   "outputs": [],
   "source": [
    "text2 = \"Thank you! I am doing well.\"\n",
    "emb2 = get_embedding(text2)"
   ]
  },
  {
   "cell_type": "code",
   "execution_count": null,
   "metadata": {},
   "outputs": [],
   "source": [
    "emb2"
   ]
  },
  {
   "cell_type": "code",
   "execution_count": 2,
   "metadata": {},
   "outputs": [
    {
     "data": {
      "text/plain": [
       "['the', 'of', 'its', 'a', 'house']"
      ]
     },
     "execution_count": 2,
     "metadata": {},
     "output_type": "execute_result"
    }
   ],
   "source": [
    "text3 = \"In the heart of the enchanted forest stood a sentient house, its windows like eyes observing the world. It longed to live, to experience life beyond its rooted existence. One moonlit night, a shooting star granted its wish, transforming the house into a towering golem of wood and stone. As it roamed the forest, its window-eyes saw wonders and met creatures it had only dreamed of. With each step, the house-turned-golem learned the essence of life, its walls now filled with memories instead of rooms.\"\n",
    "get_words(text3, remove_stopwords=False, dominant_k=5)"
   ]
  },
  {
   "cell_type": "code",
   "execution_count": null,
   "metadata": {},
   "outputs": [],
   "source": [
    "dis = compute_sem_dis(emb1, emb2)\n",
    "dis"
   ]
  },
  {
   "cell_type": "code",
   "execution_count": 3,
   "metadata": {},
   "outputs": [
    {
     "data": {
      "text/plain": [
       "[1.0, 1.0]"
      ]
     },
     "execution_count": 3,
     "metadata": {},
     "output_type": "execute_result"
    }
   ],
   "source": [
    "text4 = \"As the alien spacecraft hovered silently above the city, its metallic surface gleaming in the moonlight, Dr. Eliza Chen peered anxiously through the observatory's window. Her lifetime of research into extraterrestrial life had led to this moment, but nothing could have prepared her for the sight of the massive vessel, easily the size of a house, descending gracefully towards the Earth. With trembling hands, she reached for the radio transmitter, knowing that her next words could determine whether humanity would live or perish. \\\"Welcome,\\\" she breathed into the microphone, her voice barely above a whisper, \\\"We come in peace.\\\" The ship's response came not in words, but in a brilliant burst of light that bathed the entire planet in a warm, comforting glow.\"\n",
    "compute_theme_uniqueness([text3, text4], cluster_distance_threshold=0.5)"
   ]
  },
  {
   "cell_type": "code",
   "execution_count": 7,
   "metadata": {},
   "outputs": [
    {
     "data": {
      "text/plain": [
       "(0.023017248541417762, 0.016241591014377388, 0.019932572159316275)"
      ]
     },
     "execution_count": 7,
     "metadata": {},
     "output_type": "execute_result"
    }
   ],
   "source": [
    "compute_surprise(text3), compute_surprise(text4), compute_surprise(\"\".join([text3, text4]))"
   ]
  },
  {
   "cell_type": "code",
   "execution_count": 9,
   "metadata": {},
   "outputs": [
    {
     "data": {
      "text/plain": [
       "[0.6213592233009708, 0.9705882352941176, 1.0]"
      ]
     },
     "execution_count": 9,
     "metadata": {},
     "output_type": "execute_result"
    }
   ],
   "source": [
    "compute_n_gram_diversity(text3, max_n_gram=3)"
   ]
  },
  {
   "cell_type": "code",
   "execution_count": 1,
   "metadata": {},
   "outputs": [
    {
     "name": "stderr",
     "output_type": "stream",
     "text": [
      "/Users/mismayil/.pyenv/versions/3.10.14/envs/cs-gen/lib/python3.10/site-packages/sentence_transformers/cross_encoder/CrossEncoder.py:11: TqdmWarning: IProgress not found. Please update jupyter and ipywidgets. See https://ipywidgets.readthedocs.io/en/stable/user_install.html\n",
      "  from tqdm.autonotebook import tqdm, trange\n"
     ]
    }
   ],
   "source": [
    "from report_metrics import *"
   ]
  },
  {
   "cell_type": "code",
   "execution_count": 3,
   "metadata": {},
   "outputs": [],
   "source": [
    "rel_text1 = \"automation innovation software hardware engineering robotics programming digital network data\"\n",
    "rel_text2 = \"food cooking recipe restaurant chef cuisine ingredient flavor\"\n",
    "unrel_text1 = \"ocean laptop basketball poetry mountain refrigerator zebra guitar democracy candle\""
   ]
  },
  {
   "cell_type": "code",
   "execution_count": null,
   "metadata": {},
   "outputs": [],
   "source": [
    "compute_avg_sem_dis(rel_text1), compute_avg_sem_dis(rel_text2), compute_avg_sem_dis(unrel_text1)"
   ]
  },
  {
   "cell_type": "code",
   "execution_count": 3,
   "metadata": {},
   "outputs": [
    {
     "data": {
      "text/plain": [
       "(0.20274831851323447, 0.15473486483097076, 0.22474116219414605)"
      ]
     },
     "execution_count": 3,
     "metadata": {},
     "output_type": "execute_result"
    }
   ],
   "source": [
    "compute_avg_sem_dis(rel_text1), compute_avg_sem_dis(rel_text2), compute_avg_sem_dis(unrel_text1)"
   ]
  },
  {
   "cell_type": "code",
   "execution_count": 5,
   "metadata": {},
   "outputs": [
    {
     "data": {
      "text/plain": [
       "(['digital',\n",
       "  'hardware',\n",
       "  'automation',\n",
       "  'network',\n",
       "  'robotic',\n",
       "  'program',\n",
       "  'software',\n",
       "  'engineering',\n",
       "  'innovation',\n",
       "  'datum'],\n",
       " ['flavor',\n",
       "  'recipe',\n",
       "  'chef',\n",
       "  'restaurant',\n",
       "  'cooking',\n",
       "  'ingredient',\n",
       "  'cuisine',\n",
       "  'food'],\n",
       " ['mountain',\n",
       "  'laptop',\n",
       "  'basketball',\n",
       "  'zebra',\n",
       "  'refrigerator',\n",
       "  'guitar',\n",
       "  'democracy',\n",
       "  'ocean',\n",
       "  'candle',\n",
       "  'poetry'])"
      ]
     },
     "execution_count": 5,
     "metadata": {},
     "output_type": "execute_result"
    }
   ],
   "source": [
    "get_words(rel_text1), get_words(rel_text2), get_words(unrel_text1)"
   ]
  },
  {
   "cell_type": "code",
   "execution_count": 6,
   "metadata": {},
   "outputs": [
    {
     "data": {
      "text/plain": [
       "0.24128174781799316"
      ]
     },
     "execution_count": 6,
     "metadata": {},
     "output_type": "execute_result"
    }
   ],
   "source": [
    "emb1 = get_embedding(\"democracy\")\n",
    "emb2 = get_embedding(\"candle\")\n",
    "\n",
    "compute_sem_dis(emb1, emb2)"
   ]
  },
  {
   "cell_type": "code",
   "execution_count": 10,
   "metadata": {},
   "outputs": [
    {
     "data": {
      "text/plain": [
       "[1.0, 0.5, 0.5, 1.0]"
      ]
     },
     "execution_count": 10,
     "metadata": {},
     "output_type": "execute_result"
    }
   ],
   "source": [
    "compute_theme_uniqueness([rel_text1, rel_text2, rel_text2, unrel_text1], cluster_distance_threshold=0.5)"
   ]
  },
  {
   "cell_type": "markdown",
   "metadata": {},
   "source": [
    "## Update existing metrics"
   ]
  },
  {
   "cell_type": "code",
   "execution_count": 8,
   "metadata": {},
   "outputs": [
    {
     "name": "stderr",
     "output_type": "stream",
     "text": [
      "100%|██████████| 4/4 [00:00<00:00, 234.81it/s]\n"
     ]
    }
   ],
   "source": [
    "from utils import read_json, write_json, find_files\n",
    "from statistics import mean\n",
    "from metrics import compute_surprise\n",
    "from tqdm import tqdm\n",
    "\n",
    "data_dir = \"../experiments/reports/pilot/run1_report2/gpt-4\"\n",
    "files = find_files(data_dir, \"json\")\n",
    "\n",
    "for results_file in tqdm(files):\n",
    "    results = read_json(results_file)\n",
    "    if \"data\" in results:\n",
    "        config = results[\"metadata\"][\"config\"]\n",
    "        preprocessing_args = {\n",
    "            \"lower\": config[\"lower\"],\n",
    "            \"remove_punct\": config[\"remove_punct\"],\n",
    "            \"remove_stopwords\": config[\"remove_stopwords\"],\n",
    "            \"lemmatize\": config[\"lemmatize\"],\n",
    "            \"dominant_k\": config[\"dominant_k\"],\n",
    "            \"unique\": config[\"unique\"]\n",
    "        }\n",
    "        results[\"metrics\"][\"avg_raw_surprises\"] = [mean([result[\"metrics\"][\"raw_surprises\"][surprise_idx] for result in results[\"data\"] if \"metrics\" in result and surprise_idx < len(result[\"metrics\"][\"raw_surprises\"])]) for surprise_idx in range(max([len(r[\"metrics\"][\"raw_surprises\"]) for r in results[\"data\"] if \"metrics\" in r]))]\n",
    "        # for result in results[\"data\"]:\n",
    "        #     if result[\"output\"]:\n",
    "        #         try:\n",
    "        #             surprise, raw_surprises = compute_surprise(result[\"output\"], config[\"emb_model\"], config[\"emb_type\"], config[\"distance_fn\"], preprocessing_args)\n",
    "        #             result[\"metrics\"][\"raw_surprises\"] = raw_surprises\n",
    "        #         except Exception as e:\n",
    "        #             print(results_file)\n",
    "        #             print(result)\n",
    "        #             raise e\n",
    "                    \n",
    "\n",
    "        write_json(results, results_file)"
   ]
  },
  {
   "cell_type": "code",
   "execution_count": 6,
   "metadata": {},
   "outputs": [
    {
     "data": {
      "text/plain": [
       "{'1_gram': {'the': 191,\n",
       "  'a': 177,\n",
       "  'of': 85,\n",
       "  'her': 55,\n",
       "  'it': 48,\n",
       "  'letter': 45,\n",
       "  'she': 43,\n",
       "  'to': 37,\n",
       "  'stamp': 35,\n",
       "  'was': 35},\n",
       " '2_gram': {'the letter': 33,\n",
       "  'of a': 28,\n",
       "  'the old': 23,\n",
       "  'old woman': 21,\n",
       "  'it was': 19,\n",
       "  'pressed the': 17,\n",
       "  'onto the': 16,\n",
       "  'woman her': 15,\n",
       "  'gnarled like': 15,\n",
       "  'like the': 15},\n",
       " '3_gram': {'the old woman': 20,\n",
       "  'old woman her': 15,\n",
       "  'gnarled like the': 15,\n",
       "  'woman her hands': 14,\n",
       "  'her hands gnarled': 14,\n",
       "  'hands gnarled like': 14,\n",
       "  'like the roots': 14,\n",
       "  'the roots of': 14,\n",
       "  'pressed the stamp': 13,\n",
       "  'stamp onto the': 12},\n",
       " '4_gram': {'the old woman her': 14,\n",
       "  'old woman her hands': 14,\n",
       "  'woman her hands gnarled': 14,\n",
       "  'her hands gnarled like': 14,\n",
       "  'hands gnarled like the': 14,\n",
       "  'gnarled like the roots': 14,\n",
       "  'like the roots of': 14,\n",
       "  'the roots of a': 12,\n",
       "  'pressed the stamp onto': 11,\n",
       "  'the stamp onto the': 11},\n",
       " '5_gram': {'old woman her hands gnarled': 14,\n",
       "  'woman her hands gnarled like': 14,\n",
       "  'her hands gnarled like the': 14,\n",
       "  'hands gnarled like the roots': 14,\n",
       "  'gnarled like the roots of': 14,\n",
       "  'the old woman her hands': 13,\n",
       "  'like the roots of a': 12,\n",
       "  'pressed the stamp onto the': 11,\n",
       "  'the roots of a willow': 11,\n",
       "  'carefully pressed the stamp onto': 9}}"
      ]
     },
     "execution_count": 6,
     "metadata": {},
     "output_type": "execute_result"
    }
   ],
   "source": [
    "results[\"metrics\"][\"top_10_n_grams\"]"
   ]
  },
  {
   "cell_type": "code",
   "execution_count": null,
   "metadata": {},
   "outputs": [],
   "source": [
    "import pandas as pd\n",
    "import ast\n",
    "\n",
    "df = pd.read_csv(\"../experiments/reports/pilot/run1_report2/gpt-4/pilot_gpt-4_run1_report2_metrics_global.csv\")\n",
    "\n",
    "df[\"metric_corpus_n_gram_diversity\"] = df[\"metric_corpus_n_gram_diversity\"].apply(lambda x: ast.literal_eval(x))\n",
    "df[\"n_gram\"] = [list(range(1, len(df[\"metric_corpus_n_gram_diversity\"][0])+1)) for _ in range(len(df))]\n",
    "df.explode([\"metric_corpus_n_gram_diversity\", \"n_gram\"]).head(10)"
   ]
  },
  {
   "cell_type": "code",
   "execution_count": 19,
   "metadata": {},
   "outputs": [
    {
     "data": {
      "text/plain": [
       "array(['stamp-letter-send', 'gloom-payment-exist', 'petrol-diesel-pump',\n",
       "       'organ-empire-comply'], dtype=object)"
      ]
     },
     "execution_count": 19,
     "metadata": {},
     "output_type": "execute_result"
    }
   ],
   "source": [
    "df[\"group_id\"].unique()"
   ]
  },
  {
   "cell_type": "code",
   "execution_count": 13,
   "metadata": {},
   "outputs": [
    {
     "data": {
      "text/plain": [
       "[0.23887027285782672,\n",
       " 0.6509456547761552,\n",
       " 0.8587164750957854,\n",
       " 0.9123353293413173,\n",
       " 0.928605654048874]"
      ]
     },
     "execution_count": 13,
     "metadata": {},
     "output_type": "execute_result"
    }
   ],
   "source": [
    "df[\"metric_corpus_n_gram_diversity\"][0]"
   ]
  },
  {
   "cell_type": "code",
   "execution_count": 1,
   "metadata": {},
   "outputs": [],
   "source": [
    "import seaborn as sns\n",
    "\n",
    "sns.set_theme(style=\"whitegrid\")\n",
    "\n",
    "import matplotlib.pyplot as plt\n",
    "import pandas as pd\n",
    "\n",
    "claude_data = pd.read_csv(\"../experiments/reports/pilot/run1_report1/claude-3-5-sonnet-20240620/pilot_claude-3-5-sonnet-20240620_run1_report1_metrics.csv\")\n",
    "gemini_data = pd.read_csv(\"../experiments/reports/pilot/run1_report1/gemini-1.5-flash/pilot_gemini-1.5-flash_run1_report1_metrics.csv\")\n",
    "gpt4_data = pd.read_csv(\"../experiments/reports/pilot/run1_report1/gpt-4/pilot_gpt-4_run1_report1_metrics.csv\")\n",
    "human_data = pd.read_csv(\"../experiments/reports/pilot/run1_report1/human/pilot_human_run1_report1_metrics.csv\")\n",
    "\n",
    "claude_data[\"model\"] = \"claude\"\n",
    "gemini_data[\"model\"] = \"gemini\"\n",
    "gpt4_data[\"model\"] = \"gpt-4\"\n",
    "human_data[\"model\"] = \"human\"\n",
    "\n",
    "data = pd.concat([claude_data, gemini_data, gpt4_data, human_data])"
   ]
  },
  {
   "cell_type": "code",
   "execution_count": 4,
   "metadata": {},
   "outputs": [
    {
     "ename": "KeyboardInterrupt",
     "evalue": "",
     "output_type": "error",
     "traceback": [
      "\u001b[0;31m---------------------------------------------------------------------------\u001b[0m",
      "\u001b[0;31mKeyboardInterrupt\u001b[0m                         Traceback (most recent call last)",
      "Cell \u001b[0;32mIn[4], line 16\u001b[0m\n\u001b[1;32m     13\u001b[0m     df \u001b[38;5;241m=\u001b[39m pd\u001b[38;5;241m.\u001b[39mread_csv(file)\n\u001b[1;32m     14\u001b[0m     metric_lst\u001b[38;5;241m.\u001b[39mappend(df)\n\u001b[0;32m---> 16\u001b[0m \u001b[43mplot_metrics_n_gram_diversity\u001b[49m\u001b[43m(\u001b[49m\u001b[43mmetric_lst\u001b[49m\u001b[43m,\u001b[49m\u001b[43m \u001b[49m\u001b[38;5;124;43m\"\u001b[39;49m\u001b[38;5;124;43mfigures\u001b[39;49m\u001b[38;5;124;43m\"\u001b[39;49m\u001b[43m)\u001b[49m\n",
      "File \u001b[0;32m~/Desktop/phd/projects/project-CSG/creative-story-gen/src/plot_metrics.py:57\u001b[0m, in \u001b[0;36mplot_metrics_n_gram_diversity\u001b[0;34m(metrics_lst, output_dir, output_format)\u001b[0m\n\u001b[1;32m     55\u001b[0m group_metrics[\u001b[38;5;124m\"\u001b[39m\u001b[38;5;124mmetric_corpus_n_gram_diversity\u001b[39m\u001b[38;5;124m\"\u001b[39m] \u001b[38;5;241m=\u001b[39m group_metrics[\u001b[38;5;124m\"\u001b[39m\u001b[38;5;124mmetric_corpus_n_gram_diversity\u001b[39m\u001b[38;5;124m\"\u001b[39m]\u001b[38;5;241m.\u001b[39mapply(\u001b[38;5;28;01mlambda\u001b[39;00m x: ast\u001b[38;5;241m.\u001b[39mliteral_eval(x))\n\u001b[1;32m     56\u001b[0m group_metrics[\u001b[38;5;124m\"\u001b[39m\u001b[38;5;124mn_gram\u001b[39m\u001b[38;5;124m\"\u001b[39m] \u001b[38;5;241m=\u001b[39m [\u001b[38;5;28mlist\u001b[39m(\u001b[38;5;28mrange\u001b[39m(\u001b[38;5;241m1\u001b[39m, \u001b[38;5;28mlen\u001b[39m(group_metrics[\u001b[38;5;124m\"\u001b[39m\u001b[38;5;124mmetric_corpus_n_gram_diversity\u001b[39m\u001b[38;5;124m\"\u001b[39m]\u001b[38;5;241m.\u001b[39miloc[\u001b[38;5;241m0\u001b[39m])\u001b[38;5;241m+\u001b[39m\u001b[38;5;241m1\u001b[39m)) \u001b[38;5;28;01mfor\u001b[39;00m _ \u001b[38;5;129;01min\u001b[39;00m \u001b[38;5;28mrange\u001b[39m(\u001b[38;5;28mlen\u001b[39m(group_metrics))]\n\u001b[0;32m---> 57\u001b[0m group_metrics \u001b[38;5;241m=\u001b[39m \u001b[43mgroup_metrics\u001b[49m\u001b[38;5;241m.\u001b[39mexplode([\u001b[38;5;124m\"\u001b[39m\u001b[38;5;124mmetric_corpus_n_gram_diversity\u001b[39m\u001b[38;5;124m\"\u001b[39m, \u001b[38;5;124m\"\u001b[39m\u001b[38;5;124mn_gram\u001b[39m\u001b[38;5;124m\"\u001b[39m])\n\u001b[1;32m     59\u001b[0m metric \u001b[38;5;241m=\u001b[39m \u001b[38;5;124m\"\u001b[39m\u001b[38;5;124mmetric_corpus_n_gram_diversity\u001b[39m\u001b[38;5;124m\"\u001b[39m\n\u001b[1;32m     60\u001b[0m fig, ax \u001b[38;5;241m=\u001b[39m plt\u001b[38;5;241m.\u001b[39msubplots(figsize\u001b[38;5;241m=\u001b[39mFIG_SIZE)\n",
      "File \u001b[0;32m~/Desktop/phd/projects/project-CSG/creative-story-gen/src/plot_metrics.py:57\u001b[0m, in \u001b[0;36mplot_metrics_n_gram_diversity\u001b[0;34m(metrics_lst, output_dir, output_format)\u001b[0m\n\u001b[1;32m     55\u001b[0m group_metrics[\u001b[38;5;124m\"\u001b[39m\u001b[38;5;124mmetric_corpus_n_gram_diversity\u001b[39m\u001b[38;5;124m\"\u001b[39m] \u001b[38;5;241m=\u001b[39m group_metrics[\u001b[38;5;124m\"\u001b[39m\u001b[38;5;124mmetric_corpus_n_gram_diversity\u001b[39m\u001b[38;5;124m\"\u001b[39m]\u001b[38;5;241m.\u001b[39mapply(\u001b[38;5;28;01mlambda\u001b[39;00m x: ast\u001b[38;5;241m.\u001b[39mliteral_eval(x))\n\u001b[1;32m     56\u001b[0m group_metrics[\u001b[38;5;124m\"\u001b[39m\u001b[38;5;124mn_gram\u001b[39m\u001b[38;5;124m\"\u001b[39m] \u001b[38;5;241m=\u001b[39m [\u001b[38;5;28mlist\u001b[39m(\u001b[38;5;28mrange\u001b[39m(\u001b[38;5;241m1\u001b[39m, \u001b[38;5;28mlen\u001b[39m(group_metrics[\u001b[38;5;124m\"\u001b[39m\u001b[38;5;124mmetric_corpus_n_gram_diversity\u001b[39m\u001b[38;5;124m\"\u001b[39m]\u001b[38;5;241m.\u001b[39miloc[\u001b[38;5;241m0\u001b[39m])\u001b[38;5;241m+\u001b[39m\u001b[38;5;241m1\u001b[39m)) \u001b[38;5;28;01mfor\u001b[39;00m _ \u001b[38;5;129;01min\u001b[39;00m \u001b[38;5;28mrange\u001b[39m(\u001b[38;5;28mlen\u001b[39m(group_metrics))]\n\u001b[0;32m---> 57\u001b[0m group_metrics \u001b[38;5;241m=\u001b[39m \u001b[43mgroup_metrics\u001b[49m\u001b[38;5;241m.\u001b[39mexplode([\u001b[38;5;124m\"\u001b[39m\u001b[38;5;124mmetric_corpus_n_gram_diversity\u001b[39m\u001b[38;5;124m\"\u001b[39m, \u001b[38;5;124m\"\u001b[39m\u001b[38;5;124mn_gram\u001b[39m\u001b[38;5;124m\"\u001b[39m])\n\u001b[1;32m     59\u001b[0m metric \u001b[38;5;241m=\u001b[39m \u001b[38;5;124m\"\u001b[39m\u001b[38;5;124mmetric_corpus_n_gram_diversity\u001b[39m\u001b[38;5;124m\"\u001b[39m\n\u001b[1;32m     60\u001b[0m fig, ax \u001b[38;5;241m=\u001b[39m plt\u001b[38;5;241m.\u001b[39msubplots(figsize\u001b[38;5;241m=\u001b[39mFIG_SIZE)\n",
      "File \u001b[0;32m~/.pyenv/versions/3.10.14/envs/cs-gen/lib/python3.10/site-packages/debugpy/_vendored/pydevd/_pydevd_bundle/pydevd_frame.py:1197\u001b[0m, in \u001b[0;36mPyDBFrame.trace_dispatch\u001b[0;34m(self, frame, event, arg)\u001b[0m\n\u001b[1;32m   1195\u001b[0m \u001b[38;5;28;01mif\u001b[39;00m is_line:\n\u001b[1;32m   1196\u001b[0m     \u001b[38;5;28mself\u001b[39m\u001b[38;5;241m.\u001b[39mset_suspend(thread, step_cmd, original_step_cmd\u001b[38;5;241m=\u001b[39minfo\u001b[38;5;241m.\u001b[39mpydev_original_step_cmd)\n\u001b[0;32m-> 1197\u001b[0m     \u001b[38;5;28;43mself\u001b[39;49m\u001b[38;5;241;43m.\u001b[39;49m\u001b[43mdo_wait_suspend\u001b[49m\u001b[43m(\u001b[49m\u001b[43mthread\u001b[49m\u001b[43m,\u001b[49m\u001b[43m \u001b[49m\u001b[43mframe\u001b[49m\u001b[43m,\u001b[49m\u001b[43m \u001b[49m\u001b[43mevent\u001b[49m\u001b[43m,\u001b[49m\u001b[43m \u001b[49m\u001b[43marg\u001b[49m\u001b[43m)\u001b[49m\n\u001b[1;32m   1198\u001b[0m \u001b[38;5;28;01melif\u001b[39;00m is_return:  \u001b[38;5;66;03m# return event\u001b[39;00m\n\u001b[1;32m   1199\u001b[0m     back \u001b[38;5;241m=\u001b[39m frame\u001b[38;5;241m.\u001b[39mf_back\n",
      "File \u001b[0;32m~/.pyenv/versions/3.10.14/envs/cs-gen/lib/python3.10/site-packages/debugpy/_vendored/pydevd/_pydevd_bundle/pydevd_frame.py:165\u001b[0m, in \u001b[0;36mPyDBFrame.do_wait_suspend\u001b[0;34m(self, *args, **kwargs)\u001b[0m\n\u001b[1;32m    164\u001b[0m \u001b[38;5;28;01mdef\u001b[39;00m \u001b[38;5;21mdo_wait_suspend\u001b[39m(\u001b[38;5;28mself\u001b[39m, \u001b[38;5;241m*\u001b[39margs, \u001b[38;5;241m*\u001b[39m\u001b[38;5;241m*\u001b[39mkwargs):\n\u001b[0;32m--> 165\u001b[0m     \u001b[38;5;28;43mself\u001b[39;49m\u001b[38;5;241;43m.\u001b[39;49m\u001b[43m_args\u001b[49m\u001b[43m[\u001b[49m\u001b[38;5;241;43m0\u001b[39;49m\u001b[43m]\u001b[49m\u001b[38;5;241;43m.\u001b[39;49m\u001b[43mdo_wait_suspend\u001b[49m\u001b[43m(\u001b[49m\u001b[38;5;241;43m*\u001b[39;49m\u001b[43margs\u001b[49m\u001b[43m,\u001b[49m\u001b[43m \u001b[49m\u001b[38;5;241;43m*\u001b[39;49m\u001b[38;5;241;43m*\u001b[39;49m\u001b[43mkwargs\u001b[49m\u001b[43m)\u001b[49m\n",
      "File \u001b[0;32m~/.pyenv/versions/3.10.14/envs/cs-gen/lib/python3.10/site-packages/debugpy/_vendored/pydevd/pydevd.py:2070\u001b[0m, in \u001b[0;36mPyDB.do_wait_suspend\u001b[0;34m(self, thread, frame, event, arg, exception_type)\u001b[0m\n\u001b[1;32m   2067\u001b[0m             from_this_thread\u001b[38;5;241m.\u001b[39mappend(frame_custom_thread_id)\n\u001b[1;32m   2069\u001b[0m     \u001b[38;5;28;01mwith\u001b[39;00m \u001b[38;5;28mself\u001b[39m\u001b[38;5;241m.\u001b[39m_threads_suspended_single_notification\u001b[38;5;241m.\u001b[39mnotify_thread_suspended(thread_id, thread, stop_reason):\n\u001b[0;32m-> 2070\u001b[0m         keep_suspended \u001b[38;5;241m=\u001b[39m \u001b[38;5;28;43mself\u001b[39;49m\u001b[38;5;241;43m.\u001b[39;49m\u001b[43m_do_wait_suspend\u001b[49m\u001b[43m(\u001b[49m\u001b[43mthread\u001b[49m\u001b[43m,\u001b[49m\u001b[43m \u001b[49m\u001b[43mframe\u001b[49m\u001b[43m,\u001b[49m\u001b[43m \u001b[49m\u001b[43mevent\u001b[49m\u001b[43m,\u001b[49m\u001b[43m \u001b[49m\u001b[43marg\u001b[49m\u001b[43m,\u001b[49m\u001b[43m \u001b[49m\u001b[43msuspend_type\u001b[49m\u001b[43m,\u001b[49m\u001b[43m \u001b[49m\u001b[43mfrom_this_thread\u001b[49m\u001b[43m,\u001b[49m\u001b[43m \u001b[49m\u001b[43mframes_tracker\u001b[49m\u001b[43m)\u001b[49m\n\u001b[1;32m   2072\u001b[0m frames_list \u001b[38;5;241m=\u001b[39m \u001b[38;5;28;01mNone\u001b[39;00m\n\u001b[1;32m   2074\u001b[0m \u001b[38;5;28;01mif\u001b[39;00m keep_suspended:\n\u001b[1;32m   2075\u001b[0m     \u001b[38;5;66;03m# This means that we should pause again after a set next statement.\u001b[39;00m\n",
      "File \u001b[0;32m~/.pyenv/versions/3.10.14/envs/cs-gen/lib/python3.10/site-packages/debugpy/_vendored/pydevd/pydevd.py:2106\u001b[0m, in \u001b[0;36mPyDB._do_wait_suspend\u001b[0;34m(self, thread, frame, event, arg, suspend_type, from_this_thread, frames_tracker)\u001b[0m\n\u001b[1;32m   2103\u001b[0m         \u001b[38;5;28mself\u001b[39m\u001b[38;5;241m.\u001b[39m_call_input_hook()\n\u001b[1;32m   2105\u001b[0m     \u001b[38;5;28mself\u001b[39m\u001b[38;5;241m.\u001b[39mprocess_internal_commands()\n\u001b[0;32m-> 2106\u001b[0m     \u001b[43mtime\u001b[49m\u001b[38;5;241;43m.\u001b[39;49m\u001b[43msleep\u001b[49m\u001b[43m(\u001b[49m\u001b[38;5;241;43m0.01\u001b[39;49m\u001b[43m)\u001b[49m\n\u001b[1;32m   2108\u001b[0m \u001b[38;5;28mself\u001b[39m\u001b[38;5;241m.\u001b[39mcancel_async_evaluation(get_current_thread_id(thread), \u001b[38;5;28mstr\u001b[39m(\u001b[38;5;28mid\u001b[39m(frame)))\n\u001b[1;32m   2110\u001b[0m \u001b[38;5;66;03m# process any stepping instructions\u001b[39;00m\n",
      "\u001b[0;31mKeyboardInterrupt\u001b[0m: "
     ]
    }
   ],
   "source": [
    "import pandas as pd\n",
    "from plot_metrics import plot_metrics_n_gram_diversity\n",
    "\n",
    "report_name = \"run1_report2\"\n",
    "files = [f\"../experiments/reports/pilot/{report_name}/gpt-4/pilot_gpt-4_{report_name}_metrics_global.csv\",\n",
    "         f\"../experiments/reports/pilot/{report_name}/gemini-1.5-flash/pilot_gemini-1.5-flash_{report_name}_metrics_global.csv\",\n",
    "         f\"../experiments/reports/pilot/{report_name}/claude-3-5-sonnet-20240620/pilot_claude-3-5-sonnet-20240620_{report_name}_metrics_global.csv\",\n",
    "         f\"../experiments/reports/pilot/{report_name}/human/pilot_human_{report_name}_metrics_global.csv\"]\n",
    "\n",
    "metric_lst = []\n",
    "\n",
    "for file in files:\n",
    "    df = pd.read_csv(file)\n",
    "    metric_lst.append(df)\n",
    "\n",
    "plot_metrics_n_gram_diversity(metric_lst, \"figures\")"
   ]
  },
  {
   "cell_type": "code",
   "execution_count": 2,
   "metadata": {},
   "outputs": [
    {
     "data": {
      "text/html": [
       "<div>\n",
       "<style scoped>\n",
       "    .dataframe tbody tr th:only-of-type {\n",
       "        vertical-align: middle;\n",
       "    }\n",
       "\n",
       "    .dataframe tbody tr th {\n",
       "        vertical-align: top;\n",
       "    }\n",
       "\n",
       "    .dataframe thead th {\n",
       "        text-align: right;\n",
       "    }\n",
       "</style>\n",
       "<table border=\"1\" class=\"dataframe\">\n",
       "  <thead>\n",
       "    <tr style=\"text-align: right;\">\n",
       "      <th></th>\n",
       "      <th>group_id</th>\n",
       "      <th>model_id</th>\n",
       "      <th>metric_num_samples</th>\n",
       "      <th>metric_avg_length_in_chars</th>\n",
       "      <th>metric_avg_length_in_words</th>\n",
       "      <th>metric_avg_length_in_unique_words</th>\n",
       "      <th>metric_avg_length_in_concepts</th>\n",
       "      <th>metric_avg_length_in_sentences</th>\n",
       "      <th>metric_avg_word_length_in_chars</th>\n",
       "      <th>metric_avg_sentence_length_in_chars</th>\n",
       "      <th>...</th>\n",
       "      <th>metric_avg_surprise</th>\n",
       "      <th>metric_avg_n_gram_diversity</th>\n",
       "      <th>metric_avg_inv_homogen</th>\n",
       "      <th>metric_avg_novelty</th>\n",
       "      <th>metric_avg_theme_uniqueness</th>\n",
       "      <th>metric_corpus_dsi</th>\n",
       "      <th>metric_corpus_n_gram_diversity</th>\n",
       "      <th>metric_num_unique_stories</th>\n",
       "      <th>metric_usage</th>\n",
       "      <th>metric_cost</th>\n",
       "    </tr>\n",
       "  </thead>\n",
       "  <tbody>\n",
       "    <tr>\n",
       "      <th>0</th>\n",
       "      <td>stamp-letter-send</td>\n",
       "      <td>human</td>\n",
       "      <td>25</td>\n",
       "      <td>376.92</td>\n",
       "      <td>71.96</td>\n",
       "      <td>51.68</td>\n",
       "      <td>26.52</td>\n",
       "      <td>4.36</td>\n",
       "      <td>4.093020</td>\n",
       "      <td>92.626571</td>\n",
       "      <td>...</td>\n",
       "      <td>0.042553</td>\n",
       "      <td>[0.6915104836448943, 0.956038259585784, 0.9929...</td>\n",
       "      <td>0.175739</td>\n",
       "      <td>0.015201</td>\n",
       "      <td>0.84</td>\n",
       "      <td>0.210958</td>\n",
       "      <td>[0.335, 0.8149074537268635, 0.9734734734734735...</td>\n",
       "      <td>25</td>\n",
       "      <td>{'input_tokens': 0, 'output_tokens': 0, 'total...</td>\n",
       "      <td>{'input': 0, 'output': 0, 'total': 0}</td>\n",
       "    </tr>\n",
       "    <tr>\n",
       "      <th>1</th>\n",
       "      <td>gloom-payment-exist</td>\n",
       "      <td>human</td>\n",
       "      <td>25</td>\n",
       "      <td>341.84</td>\n",
       "      <td>64.92</td>\n",
       "      <td>48.64</td>\n",
       "      <td>25.52</td>\n",
       "      <td>4.00</td>\n",
       "      <td>4.161530</td>\n",
       "      <td>92.058667</td>\n",
       "      <td>...</td>\n",
       "      <td>0.043166</td>\n",
       "      <td>[0.7206884850969, 0.9676567310683905, 0.993824...</td>\n",
       "      <td>0.179796</td>\n",
       "      <td>0.010896</td>\n",
       "      <td>0.96</td>\n",
       "      <td>0.213749</td>\n",
       "      <td>[0.35797665369649806, 0.8348164627363738, 0.97...</td>\n",
       "      <td>25</td>\n",
       "      <td>{'input_tokens': 0, 'output_tokens': 0, 'total...</td>\n",
       "      <td>{'input': 0, 'output': 0, 'total': 0}</td>\n",
       "    </tr>\n",
       "    <tr>\n",
       "      <th>2</th>\n",
       "      <td>petrol-diesel-pump</td>\n",
       "      <td>human</td>\n",
       "      <td>25</td>\n",
       "      <td>452.24</td>\n",
       "      <td>85.84</td>\n",
       "      <td>60.96</td>\n",
       "      <td>33.28</td>\n",
       "      <td>5.16</td>\n",
       "      <td>4.180437</td>\n",
       "      <td>91.502571</td>\n",
       "      <td>...</td>\n",
       "      <td>0.030483</td>\n",
       "      <td>[0.6815274535500768, 0.9649025007385326, 0.994...</td>\n",
       "      <td>0.155943</td>\n",
       "      <td>0.009814</td>\n",
       "      <td>0.68</td>\n",
       "      <td>0.213922</td>\n",
       "      <td>[0.3210239194292908, 0.8194794290512175, 0.971...</td>\n",
       "      <td>25</td>\n",
       "      <td>{'input_tokens': 0, 'output_tokens': 0, 'total...</td>\n",
       "      <td>{'input': 0, 'output': 0, 'total': 0}</td>\n",
       "    </tr>\n",
       "    <tr>\n",
       "      <th>3</th>\n",
       "      <td>organ-empire-comply</td>\n",
       "      <td>human</td>\n",
       "      <td>25</td>\n",
       "      <td>364.60</td>\n",
       "      <td>67.92</td>\n",
       "      <td>50.60</td>\n",
       "      <td>26.44</td>\n",
       "      <td>3.84</td>\n",
       "      <td>4.286189</td>\n",
       "      <td>96.552000</td>\n",
       "      <td>...</td>\n",
       "      <td>0.021366</td>\n",
       "      <td>[0.7246199155205226, 0.967924976474475, 0.9940...</td>\n",
       "      <td>0.188341</td>\n",
       "      <td>0.006142</td>\n",
       "      <td>0.80</td>\n",
       "      <td>0.214997</td>\n",
       "      <td>[0.3532258064516129, 0.8262506724045185, 0.969...</td>\n",
       "      <td>25</td>\n",
       "      <td>{'input_tokens': 0, 'output_tokens': 0, 'total...</td>\n",
       "      <td>{'input': 0, 'output': 0, 'total': 0}</td>\n",
       "    </tr>\n",
       "  </tbody>\n",
       "</table>\n",
       "<p>4 rows × 23 columns</p>\n",
       "</div>"
      ],
      "text/plain": [
       "              group_id model_id  metric_num_samples  \\\n",
       "0    stamp-letter-send    human                  25   \n",
       "1  gloom-payment-exist    human                  25   \n",
       "2   petrol-diesel-pump    human                  25   \n",
       "3  organ-empire-comply    human                  25   \n",
       "\n",
       "   metric_avg_length_in_chars  metric_avg_length_in_words  \\\n",
       "0                      376.92                       71.96   \n",
       "1                      341.84                       64.92   \n",
       "2                      452.24                       85.84   \n",
       "3                      364.60                       67.92   \n",
       "\n",
       "   metric_avg_length_in_unique_words  metric_avg_length_in_concepts  \\\n",
       "0                              51.68                          26.52   \n",
       "1                              48.64                          25.52   \n",
       "2                              60.96                          33.28   \n",
       "3                              50.60                          26.44   \n",
       "\n",
       "   metric_avg_length_in_sentences  metric_avg_word_length_in_chars  \\\n",
       "0                            4.36                         4.093020   \n",
       "1                            4.00                         4.161530   \n",
       "2                            5.16                         4.180437   \n",
       "3                            3.84                         4.286189   \n",
       "\n",
       "   metric_avg_sentence_length_in_chars  ...  metric_avg_surprise  \\\n",
       "0                            92.626571  ...             0.042553   \n",
       "1                            92.058667  ...             0.043166   \n",
       "2                            91.502571  ...             0.030483   \n",
       "3                            96.552000  ...             0.021366   \n",
       "\n",
       "                         metric_avg_n_gram_diversity  metric_avg_inv_homogen  \\\n",
       "0  [0.6915104836448943, 0.956038259585784, 0.9929...                0.175739   \n",
       "1  [0.7206884850969, 0.9676567310683905, 0.993824...                0.179796   \n",
       "2  [0.6815274535500768, 0.9649025007385326, 0.994...                0.155943   \n",
       "3  [0.7246199155205226, 0.967924976474475, 0.9940...                0.188341   \n",
       "\n",
       "   metric_avg_novelty metric_avg_theme_uniqueness  metric_corpus_dsi  \\\n",
       "0            0.015201                        0.84           0.210958   \n",
       "1            0.010896                        0.96           0.213749   \n",
       "2            0.009814                        0.68           0.213922   \n",
       "3            0.006142                        0.80           0.214997   \n",
       "\n",
       "                      metric_corpus_n_gram_diversity  \\\n",
       "0  [0.335, 0.8149074537268635, 0.9734734734734735...   \n",
       "1  [0.35797665369649806, 0.8348164627363738, 0.97...   \n",
       "2  [0.3210239194292908, 0.8194794290512175, 0.971...   \n",
       "3  [0.3532258064516129, 0.8262506724045185, 0.969...   \n",
       "\n",
       "   metric_num_unique_stories  \\\n",
       "0                         25   \n",
       "1                         25   \n",
       "2                         25   \n",
       "3                         25   \n",
       "\n",
       "                                        metric_usage  \\\n",
       "0  {'input_tokens': 0, 'output_tokens': 0, 'total...   \n",
       "1  {'input_tokens': 0, 'output_tokens': 0, 'total...   \n",
       "2  {'input_tokens': 0, 'output_tokens': 0, 'total...   \n",
       "3  {'input_tokens': 0, 'output_tokens': 0, 'total...   \n",
       "\n",
       "                             metric_cost  \n",
       "0  {'input': 0, 'output': 0, 'total': 0}  \n",
       "1  {'input': 0, 'output': 0, 'total': 0}  \n",
       "2  {'input': 0, 'output': 0, 'total': 0}  \n",
       "3  {'input': 0, 'output': 0, 'total': 0}  \n",
       "\n",
       "[4 rows x 23 columns]"
      ]
     },
     "execution_count": 2,
     "metadata": {},
     "output_type": "execute_result"
    }
   ],
   "source": [
    "pd.read_csv(\"../experiments/reports/pilot/run1_report2/human/pilot_human_run1_report2_metrics_global.csv\")"
   ]
  },
  {
   "cell_type": "code",
   "execution_count": 7,
   "metadata": {},
   "outputs": [
    {
     "data": {
      "text/html": [
       "<span class=\"tex2jax_ignore\"><svg xmlns=\"http://www.w3.org/2000/svg\" xmlns:xlink=\"http://www.w3.org/1999/xlink\" xml:lang=\"en\" id=\"3665e2e3e91f4757b12f91e44b22b6db-0\" class=\"displacy\" width=\"1800\" height=\"487.0\" direction=\"ltr\" style=\"max-width: none; height: 487.0px; color: #000000; background: #ffffff; font-family: Arial; direction: ltr\">\n",
       "<text class=\"displacy-token\" fill=\"currentColor\" text-anchor=\"middle\" y=\"397.0\">\n",
       "    <tspan class=\"displacy-word\" fill=\"currentColor\" x=\"50\">Rose</tspan>\n",
       "    <tspan class=\"displacy-tag\" dy=\"2em\" fill=\"currentColor\" x=\"50\">PROPN</tspan>\n",
       "</text>\n",
       "\n",
       "<text class=\"displacy-token\" fill=\"currentColor\" text-anchor=\"middle\" y=\"397.0\">\n",
       "    <tspan class=\"displacy-word\" fill=\"currentColor\" x=\"225\">should</tspan>\n",
       "    <tspan class=\"displacy-tag\" dy=\"2em\" fill=\"currentColor\" x=\"225\">AUX</tspan>\n",
       "</text>\n",
       "\n",
       "<text class=\"displacy-token\" fill=\"currentColor\" text-anchor=\"middle\" y=\"397.0\">\n",
       "    <tspan class=\"displacy-word\" fill=\"currentColor\" x=\"400\">n't</tspan>\n",
       "    <tspan class=\"displacy-tag\" dy=\"2em\" fill=\"currentColor\" x=\"400\">PART</tspan>\n",
       "</text>\n",
       "\n",
       "<text class=\"displacy-token\" fill=\"currentColor\" text-anchor=\"middle\" y=\"397.0\">\n",
       "    <tspan class=\"displacy-word\" fill=\"currentColor\" x=\"575\">be</tspan>\n",
       "    <tspan class=\"displacy-tag\" dy=\"2em\" fill=\"currentColor\" x=\"575\">AUX</tspan>\n",
       "</text>\n",
       "\n",
       "<text class=\"displacy-token\" fill=\"currentColor\" text-anchor=\"middle\" y=\"397.0\">\n",
       "    <tspan class=\"displacy-word\" fill=\"currentColor\" x=\"750\">forced</tspan>\n",
       "    <tspan class=\"displacy-tag\" dy=\"2em\" fill=\"currentColor\" x=\"750\">VERB</tspan>\n",
       "</text>\n",
       "\n",
       "<text class=\"displacy-token\" fill=\"currentColor\" text-anchor=\"middle\" y=\"397.0\">\n",
       "    <tspan class=\"displacy-word\" fill=\"currentColor\" x=\"925\">to</tspan>\n",
       "    <tspan class=\"displacy-tag\" dy=\"2em\" fill=\"currentColor\" x=\"925\">PART</tspan>\n",
       "</text>\n",
       "\n",
       "<text class=\"displacy-token\" fill=\"currentColor\" text-anchor=\"middle\" y=\"397.0\">\n",
       "    <tspan class=\"displacy-word\" fill=\"currentColor\" x=\"1100\">exist</tspan>\n",
       "    <tspan class=\"displacy-tag\" dy=\"2em\" fill=\"currentColor\" x=\"1100\">VERB</tspan>\n",
       "</text>\n",
       "\n",
       "<text class=\"displacy-token\" fill=\"currentColor\" text-anchor=\"middle\" y=\"397.0\">\n",
       "    <tspan class=\"displacy-word\" fill=\"currentColor\" x=\"1275\">in</tspan>\n",
       "    <tspan class=\"displacy-tag\" dy=\"2em\" fill=\"currentColor\" x=\"1275\">ADP</tspan>\n",
       "</text>\n",
       "\n",
       "<text class=\"displacy-token\" fill=\"currentColor\" text-anchor=\"middle\" y=\"397.0\">\n",
       "    <tspan class=\"displacy-word\" fill=\"currentColor\" x=\"1450\">this</tspan>\n",
       "    <tspan class=\"displacy-tag\" dy=\"2em\" fill=\"currentColor\" x=\"1450\">DET</tspan>\n",
       "</text>\n",
       "\n",
       "<text class=\"displacy-token\" fill=\"currentColor\" text-anchor=\"middle\" y=\"397.0\">\n",
       "    <tspan class=\"displacy-word\" fill=\"currentColor\" x=\"1625\">gloom.</tspan>\n",
       "    <tspan class=\"displacy-tag\" dy=\"2em\" fill=\"currentColor\" x=\"1625\">NOUN</tspan>\n",
       "</text>\n",
       "\n",
       "<g class=\"displacy-arrow\">\n",
       "    <path class=\"displacy-arc\" id=\"arrow-3665e2e3e91f4757b12f91e44b22b6db-0-0\" stroke-width=\"2px\" d=\"M70,352.0 C70,2.0 750.0,2.0 750.0,352.0\" fill=\"none\" stroke=\"currentColor\"/>\n",
       "    <text dy=\"1.25em\" style=\"font-size: 0.8em; letter-spacing: 1px\">\n",
       "        <textPath xlink:href=\"#arrow-3665e2e3e91f4757b12f91e44b22b6db-0-0\" class=\"displacy-label\" startOffset=\"50%\" side=\"left\" fill=\"currentColor\" text-anchor=\"middle\">nsubjpass</textPath>\n",
       "    </text>\n",
       "    <path class=\"displacy-arrowhead\" d=\"M70,354.0 L62,342.0 78,342.0\" fill=\"currentColor\"/>\n",
       "</g>\n",
       "\n",
       "<g class=\"displacy-arrow\">\n",
       "    <path class=\"displacy-arc\" id=\"arrow-3665e2e3e91f4757b12f91e44b22b6db-0-1\" stroke-width=\"2px\" d=\"M245,352.0 C245,89.5 745.0,89.5 745.0,352.0\" fill=\"none\" stroke=\"currentColor\"/>\n",
       "    <text dy=\"1.25em\" style=\"font-size: 0.8em; letter-spacing: 1px\">\n",
       "        <textPath xlink:href=\"#arrow-3665e2e3e91f4757b12f91e44b22b6db-0-1\" class=\"displacy-label\" startOffset=\"50%\" side=\"left\" fill=\"currentColor\" text-anchor=\"middle\">aux</textPath>\n",
       "    </text>\n",
       "    <path class=\"displacy-arrowhead\" d=\"M245,354.0 L237,342.0 253,342.0\" fill=\"currentColor\"/>\n",
       "</g>\n",
       "\n",
       "<g class=\"displacy-arrow\">\n",
       "    <path class=\"displacy-arc\" id=\"arrow-3665e2e3e91f4757b12f91e44b22b6db-0-2\" stroke-width=\"2px\" d=\"M420,352.0 C420,177.0 740.0,177.0 740.0,352.0\" fill=\"none\" stroke=\"currentColor\"/>\n",
       "    <text dy=\"1.25em\" style=\"font-size: 0.8em; letter-spacing: 1px\">\n",
       "        <textPath xlink:href=\"#arrow-3665e2e3e91f4757b12f91e44b22b6db-0-2\" class=\"displacy-label\" startOffset=\"50%\" side=\"left\" fill=\"currentColor\" text-anchor=\"middle\">neg</textPath>\n",
       "    </text>\n",
       "    <path class=\"displacy-arrowhead\" d=\"M420,354.0 L412,342.0 428,342.0\" fill=\"currentColor\"/>\n",
       "</g>\n",
       "\n",
       "<g class=\"displacy-arrow\">\n",
       "    <path class=\"displacy-arc\" id=\"arrow-3665e2e3e91f4757b12f91e44b22b6db-0-3\" stroke-width=\"2px\" d=\"M595,352.0 C595,264.5 735.0,264.5 735.0,352.0\" fill=\"none\" stroke=\"currentColor\"/>\n",
       "    <text dy=\"1.25em\" style=\"font-size: 0.8em; letter-spacing: 1px\">\n",
       "        <textPath xlink:href=\"#arrow-3665e2e3e91f4757b12f91e44b22b6db-0-3\" class=\"displacy-label\" startOffset=\"50%\" side=\"left\" fill=\"currentColor\" text-anchor=\"middle\">auxpass</textPath>\n",
       "    </text>\n",
       "    <path class=\"displacy-arrowhead\" d=\"M595,354.0 L587,342.0 603,342.0\" fill=\"currentColor\"/>\n",
       "</g>\n",
       "\n",
       "<g class=\"displacy-arrow\">\n",
       "    <path class=\"displacy-arc\" id=\"arrow-3665e2e3e91f4757b12f91e44b22b6db-0-4\" stroke-width=\"2px\" d=\"M945,352.0 C945,264.5 1085.0,264.5 1085.0,352.0\" fill=\"none\" stroke=\"currentColor\"/>\n",
       "    <text dy=\"1.25em\" style=\"font-size: 0.8em; letter-spacing: 1px\">\n",
       "        <textPath xlink:href=\"#arrow-3665e2e3e91f4757b12f91e44b22b6db-0-4\" class=\"displacy-label\" startOffset=\"50%\" side=\"left\" fill=\"currentColor\" text-anchor=\"middle\">aux</textPath>\n",
       "    </text>\n",
       "    <path class=\"displacy-arrowhead\" d=\"M945,354.0 L937,342.0 953,342.0\" fill=\"currentColor\"/>\n",
       "</g>\n",
       "\n",
       "<g class=\"displacy-arrow\">\n",
       "    <path class=\"displacy-arc\" id=\"arrow-3665e2e3e91f4757b12f91e44b22b6db-0-5\" stroke-width=\"2px\" d=\"M770,352.0 C770,177.0 1090.0,177.0 1090.0,352.0\" fill=\"none\" stroke=\"currentColor\"/>\n",
       "    <text dy=\"1.25em\" style=\"font-size: 0.8em; letter-spacing: 1px\">\n",
       "        <textPath xlink:href=\"#arrow-3665e2e3e91f4757b12f91e44b22b6db-0-5\" class=\"displacy-label\" startOffset=\"50%\" side=\"left\" fill=\"currentColor\" text-anchor=\"middle\">xcomp</textPath>\n",
       "    </text>\n",
       "    <path class=\"displacy-arrowhead\" d=\"M1090.0,354.0 L1098.0,342.0 1082.0,342.0\" fill=\"currentColor\"/>\n",
       "</g>\n",
       "\n",
       "<g class=\"displacy-arrow\">\n",
       "    <path class=\"displacy-arc\" id=\"arrow-3665e2e3e91f4757b12f91e44b22b6db-0-6\" stroke-width=\"2px\" d=\"M1120,352.0 C1120,264.5 1260.0,264.5 1260.0,352.0\" fill=\"none\" stroke=\"currentColor\"/>\n",
       "    <text dy=\"1.25em\" style=\"font-size: 0.8em; letter-spacing: 1px\">\n",
       "        <textPath xlink:href=\"#arrow-3665e2e3e91f4757b12f91e44b22b6db-0-6\" class=\"displacy-label\" startOffset=\"50%\" side=\"left\" fill=\"currentColor\" text-anchor=\"middle\">prep</textPath>\n",
       "    </text>\n",
       "    <path class=\"displacy-arrowhead\" d=\"M1260.0,354.0 L1268.0,342.0 1252.0,342.0\" fill=\"currentColor\"/>\n",
       "</g>\n",
       "\n",
       "<g class=\"displacy-arrow\">\n",
       "    <path class=\"displacy-arc\" id=\"arrow-3665e2e3e91f4757b12f91e44b22b6db-0-7\" stroke-width=\"2px\" d=\"M1470,352.0 C1470,264.5 1610.0,264.5 1610.0,352.0\" fill=\"none\" stroke=\"currentColor\"/>\n",
       "    <text dy=\"1.25em\" style=\"font-size: 0.8em; letter-spacing: 1px\">\n",
       "        <textPath xlink:href=\"#arrow-3665e2e3e91f4757b12f91e44b22b6db-0-7\" class=\"displacy-label\" startOffset=\"50%\" side=\"left\" fill=\"currentColor\" text-anchor=\"middle\">det</textPath>\n",
       "    </text>\n",
       "    <path class=\"displacy-arrowhead\" d=\"M1470,354.0 L1462,342.0 1478,342.0\" fill=\"currentColor\"/>\n",
       "</g>\n",
       "\n",
       "<g class=\"displacy-arrow\">\n",
       "    <path class=\"displacy-arc\" id=\"arrow-3665e2e3e91f4757b12f91e44b22b6db-0-8\" stroke-width=\"2px\" d=\"M1295,352.0 C1295,177.0 1615.0,177.0 1615.0,352.0\" fill=\"none\" stroke=\"currentColor\"/>\n",
       "    <text dy=\"1.25em\" style=\"font-size: 0.8em; letter-spacing: 1px\">\n",
       "        <textPath xlink:href=\"#arrow-3665e2e3e91f4757b12f91e44b22b6db-0-8\" class=\"displacy-label\" startOffset=\"50%\" side=\"left\" fill=\"currentColor\" text-anchor=\"middle\">pobj</textPath>\n",
       "    </text>\n",
       "    <path class=\"displacy-arrowhead\" d=\"M1615.0,354.0 L1623.0,342.0 1607.0,342.0\" fill=\"currentColor\"/>\n",
       "</g>\n",
       "</svg></span>"
      ],
      "text/plain": [
       "<IPython.core.display.HTML object>"
      ]
     },
     "metadata": {},
     "output_type": "display_data"
    },
    {
     "data": {
      "text/html": [
       "<span class=\"tex2jax_ignore\"><svg xmlns=\"http://www.w3.org/2000/svg\" xmlns:xlink=\"http://www.w3.org/1999/xlink\" xml:lang=\"en\" id=\"3ee7da7e81c34a49a6370f98679046c8-0\" class=\"displacy\" width=\"1100\" height=\"312.0\" direction=\"ltr\" style=\"max-width: none; height: 312.0px; color: #000000; background: #ffffff; font-family: Arial; direction: ltr\">\n",
       "<text class=\"displacy-token\" fill=\"currentColor\" text-anchor=\"middle\" y=\"222.0\">\n",
       "    <tspan class=\"displacy-word\" fill=\"currentColor\" x=\"50\">The</tspan>\n",
       "    <tspan class=\"displacy-tag\" dy=\"2em\" fill=\"currentColor\" x=\"50\">DET</tspan>\n",
       "</text>\n",
       "\n",
       "<text class=\"displacy-token\" fill=\"currentColor\" text-anchor=\"middle\" y=\"222.0\">\n",
       "    <tspan class=\"displacy-word\" fill=\"currentColor\" x=\"225\">UK</tspan>\n",
       "    <tspan class=\"displacy-tag\" dy=\"2em\" fill=\"currentColor\" x=\"225\">PROPN</tspan>\n",
       "</text>\n",
       "\n",
       "<text class=\"displacy-token\" fill=\"currentColor\" text-anchor=\"middle\" y=\"222.0\">\n",
       "    <tspan class=\"displacy-word\" fill=\"currentColor\" x=\"400\">weather</tspan>\n",
       "    <tspan class=\"displacy-tag\" dy=\"2em\" fill=\"currentColor\" x=\"400\">NOUN</tspan>\n",
       "</text>\n",
       "\n",
       "<text class=\"displacy-token\" fill=\"currentColor\" text-anchor=\"middle\" y=\"222.0\">\n",
       "    <tspan class=\"displacy-word\" fill=\"currentColor\" x=\"575\">was</tspan>\n",
       "    <tspan class=\"displacy-tag\" dy=\"2em\" fill=\"currentColor\" x=\"575\">AUX</tspan>\n",
       "</text>\n",
       "\n",
       "<text class=\"displacy-token\" fill=\"currentColor\" text-anchor=\"middle\" y=\"222.0\">\n",
       "    <tspan class=\"displacy-word\" fill=\"currentColor\" x=\"750\">so</tspan>\n",
       "    <tspan class=\"displacy-tag\" dy=\"2em\" fill=\"currentColor\" x=\"750\">ADV</tspan>\n",
       "</text>\n",
       "\n",
       "<text class=\"displacy-token\" fill=\"currentColor\" text-anchor=\"middle\" y=\"222.0\">\n",
       "    <tspan class=\"displacy-word\" fill=\"currentColor\" x=\"925\">depressing.</tspan>\n",
       "    <tspan class=\"displacy-tag\" dy=\"2em\" fill=\"currentColor\" x=\"925\">ADJ</tspan>\n",
       "</text>\n",
       "\n",
       "<g class=\"displacy-arrow\">\n",
       "    <path class=\"displacy-arc\" id=\"arrow-3ee7da7e81c34a49a6370f98679046c8-0-0\" stroke-width=\"2px\" d=\"M70,177.0 C70,2.0 400.0,2.0 400.0,177.0\" fill=\"none\" stroke=\"currentColor\"/>\n",
       "    <text dy=\"1.25em\" style=\"font-size: 0.8em; letter-spacing: 1px\">\n",
       "        <textPath xlink:href=\"#arrow-3ee7da7e81c34a49a6370f98679046c8-0-0\" class=\"displacy-label\" startOffset=\"50%\" side=\"left\" fill=\"currentColor\" text-anchor=\"middle\">det</textPath>\n",
       "    </text>\n",
       "    <path class=\"displacy-arrowhead\" d=\"M70,179.0 L62,167.0 78,167.0\" fill=\"currentColor\"/>\n",
       "</g>\n",
       "\n",
       "<g class=\"displacy-arrow\">\n",
       "    <path class=\"displacy-arc\" id=\"arrow-3ee7da7e81c34a49a6370f98679046c8-0-1\" stroke-width=\"2px\" d=\"M245,177.0 C245,89.5 395.0,89.5 395.0,177.0\" fill=\"none\" stroke=\"currentColor\"/>\n",
       "    <text dy=\"1.25em\" style=\"font-size: 0.8em; letter-spacing: 1px\">\n",
       "        <textPath xlink:href=\"#arrow-3ee7da7e81c34a49a6370f98679046c8-0-1\" class=\"displacy-label\" startOffset=\"50%\" side=\"left\" fill=\"currentColor\" text-anchor=\"middle\">compound</textPath>\n",
       "    </text>\n",
       "    <path class=\"displacy-arrowhead\" d=\"M245,179.0 L237,167.0 253,167.0\" fill=\"currentColor\"/>\n",
       "</g>\n",
       "\n",
       "<g class=\"displacy-arrow\">\n",
       "    <path class=\"displacy-arc\" id=\"arrow-3ee7da7e81c34a49a6370f98679046c8-0-2\" stroke-width=\"2px\" d=\"M420,177.0 C420,89.5 570.0,89.5 570.0,177.0\" fill=\"none\" stroke=\"currentColor\"/>\n",
       "    <text dy=\"1.25em\" style=\"font-size: 0.8em; letter-spacing: 1px\">\n",
       "        <textPath xlink:href=\"#arrow-3ee7da7e81c34a49a6370f98679046c8-0-2\" class=\"displacy-label\" startOffset=\"50%\" side=\"left\" fill=\"currentColor\" text-anchor=\"middle\">nsubj</textPath>\n",
       "    </text>\n",
       "    <path class=\"displacy-arrowhead\" d=\"M420,179.0 L412,167.0 428,167.0\" fill=\"currentColor\"/>\n",
       "</g>\n",
       "\n",
       "<g class=\"displacy-arrow\">\n",
       "    <path class=\"displacy-arc\" id=\"arrow-3ee7da7e81c34a49a6370f98679046c8-0-3\" stroke-width=\"2px\" d=\"M770,177.0 C770,89.5 920.0,89.5 920.0,177.0\" fill=\"none\" stroke=\"currentColor\"/>\n",
       "    <text dy=\"1.25em\" style=\"font-size: 0.8em; letter-spacing: 1px\">\n",
       "        <textPath xlink:href=\"#arrow-3ee7da7e81c34a49a6370f98679046c8-0-3\" class=\"displacy-label\" startOffset=\"50%\" side=\"left\" fill=\"currentColor\" text-anchor=\"middle\">advmod</textPath>\n",
       "    </text>\n",
       "    <path class=\"displacy-arrowhead\" d=\"M770,179.0 L762,167.0 778,167.0\" fill=\"currentColor\"/>\n",
       "</g>\n",
       "\n",
       "<g class=\"displacy-arrow\">\n",
       "    <path class=\"displacy-arc\" id=\"arrow-3ee7da7e81c34a49a6370f98679046c8-0-4\" stroke-width=\"2px\" d=\"M595,177.0 C595,2.0 925.0,2.0 925.0,177.0\" fill=\"none\" stroke=\"currentColor\"/>\n",
       "    <text dy=\"1.25em\" style=\"font-size: 0.8em; letter-spacing: 1px\">\n",
       "        <textPath xlink:href=\"#arrow-3ee7da7e81c34a49a6370f98679046c8-0-4\" class=\"displacy-label\" startOffset=\"50%\" side=\"left\" fill=\"currentColor\" text-anchor=\"middle\">acomp</textPath>\n",
       "    </text>\n",
       "    <path class=\"displacy-arrowhead\" d=\"M925.0,179.0 L933.0,167.0 917.0,167.0\" fill=\"currentColor\"/>\n",
       "</g>\n",
       "</svg></span>"
      ],
      "text/plain": [
       "<IPython.core.display.HTML object>"
      ]
     },
     "metadata": {},
     "output_type": "display_data"
    },
    {
     "data": {
      "text/html": [
       "<span class=\"tex2jax_ignore\"><svg xmlns=\"http://www.w3.org/2000/svg\" xmlns:xlink=\"http://www.w3.org/1999/xlink\" xml:lang=\"en\" id=\"3f060e64a8094ea196a5fe297da93860-0\" class=\"displacy\" width=\"1800\" height=\"399.5\" direction=\"ltr\" style=\"max-width: none; height: 399.5px; color: #000000; background: #ffffff; font-family: Arial; direction: ltr\">\n",
       "<text class=\"displacy-token\" fill=\"currentColor\" text-anchor=\"middle\" y=\"309.5\">\n",
       "    <tspan class=\"displacy-word\" fill=\"currentColor\" x=\"50\">&quot;</tspan>\n",
       "    <tspan class=\"displacy-tag\" dy=\"2em\" fill=\"currentColor\" x=\"50\">PUNCT</tspan>\n",
       "</text>\n",
       "\n",
       "<text class=\"displacy-token\" fill=\"currentColor\" text-anchor=\"middle\" y=\"309.5\">\n",
       "    <tspan class=\"displacy-word\" fill=\"currentColor\" x=\"225\">Get</tspan>\n",
       "    <tspan class=\"displacy-tag\" dy=\"2em\" fill=\"currentColor\" x=\"225\">VERB</tspan>\n",
       "</text>\n",
       "\n",
       "<text class=\"displacy-token\" fill=\"currentColor\" text-anchor=\"middle\" y=\"309.5\">\n",
       "    <tspan class=\"displacy-word\" fill=\"currentColor\" x=\"400\">me</tspan>\n",
       "    <tspan class=\"displacy-tag\" dy=\"2em\" fill=\"currentColor\" x=\"400\">PRON</tspan>\n",
       "</text>\n",
       "\n",
       "<text class=\"displacy-token\" fill=\"currentColor\" text-anchor=\"middle\" y=\"309.5\">\n",
       "    <tspan class=\"displacy-word\" fill=\"currentColor\" x=\"575\">on</tspan>\n",
       "    <tspan class=\"displacy-tag\" dy=\"2em\" fill=\"currentColor\" x=\"575\">ADP</tspan>\n",
       "</text>\n",
       "\n",
       "<text class=\"displacy-token\" fill=\"currentColor\" text-anchor=\"middle\" y=\"309.5\">\n",
       "    <tspan class=\"displacy-word\" fill=\"currentColor\" x=\"750\">a</tspan>\n",
       "    <tspan class=\"displacy-tag\" dy=\"2em\" fill=\"currentColor\" x=\"750\">DET</tspan>\n",
       "</text>\n",
       "\n",
       "<text class=\"displacy-token\" fill=\"currentColor\" text-anchor=\"middle\" y=\"309.5\">\n",
       "    <tspan class=\"displacy-word\" fill=\"currentColor\" x=\"925\">plane</tspan>\n",
       "    <tspan class=\"displacy-tag\" dy=\"2em\" fill=\"currentColor\" x=\"925\">NOUN</tspan>\n",
       "</text>\n",
       "\n",
       "<text class=\"displacy-token\" fill=\"currentColor\" text-anchor=\"middle\" y=\"309.5\">\n",
       "    <tspan class=\"displacy-word\" fill=\"currentColor\" x=\"1100\">to</tspan>\n",
       "    <tspan class=\"displacy-tag\" dy=\"2em\" fill=\"currentColor\" x=\"1100\">PART</tspan>\n",
       "</text>\n",
       "\n",
       "<text class=\"displacy-token\" fill=\"currentColor\" text-anchor=\"middle\" y=\"309.5\">\n",
       "    <tspan class=\"displacy-word\" fill=\"currentColor\" x=\"1275\">hotter</tspan>\n",
       "    <tspan class=\"displacy-tag\" dy=\"2em\" fill=\"currentColor\" x=\"1275\">VERB</tspan>\n",
       "</text>\n",
       "\n",
       "<text class=\"displacy-token\" fill=\"currentColor\" text-anchor=\"middle\" y=\"309.5\">\n",
       "    <tspan class=\"displacy-word\" fill=\"currentColor\" x=\"1450\">climes</tspan>\n",
       "    <tspan class=\"displacy-tag\" dy=\"2em\" fill=\"currentColor\" x=\"1450\">NOUN</tspan>\n",
       "</text>\n",
       "\n",
       "<text class=\"displacy-token\" fill=\"currentColor\" text-anchor=\"middle\" y=\"309.5\">\n",
       "    <tspan class=\"displacy-word\" fill=\"currentColor\" x=\"1625\">immediately!&quot;</tspan>\n",
       "    <tspan class=\"displacy-tag\" dy=\"2em\" fill=\"currentColor\" x=\"1625\">ADV</tspan>\n",
       "</text>\n",
       "\n",
       "<g class=\"displacy-arrow\">\n",
       "    <path class=\"displacy-arc\" id=\"arrow-3f060e64a8094ea196a5fe297da93860-0-0\" stroke-width=\"2px\" d=\"M70,264.5 C70,177.0 215.0,177.0 215.0,264.5\" fill=\"none\" stroke=\"currentColor\"/>\n",
       "    <text dy=\"1.25em\" style=\"font-size: 0.8em; letter-spacing: 1px\">\n",
       "        <textPath xlink:href=\"#arrow-3f060e64a8094ea196a5fe297da93860-0-0\" class=\"displacy-label\" startOffset=\"50%\" side=\"left\" fill=\"currentColor\" text-anchor=\"middle\">punct</textPath>\n",
       "    </text>\n",
       "    <path class=\"displacy-arrowhead\" d=\"M70,266.5 L62,254.5 78,254.5\" fill=\"currentColor\"/>\n",
       "</g>\n",
       "\n",
       "<g class=\"displacy-arrow\">\n",
       "    <path class=\"displacy-arc\" id=\"arrow-3f060e64a8094ea196a5fe297da93860-0-1\" stroke-width=\"2px\" d=\"M245,264.5 C245,177.0 390.0,177.0 390.0,264.5\" fill=\"none\" stroke=\"currentColor\"/>\n",
       "    <text dy=\"1.25em\" style=\"font-size: 0.8em; letter-spacing: 1px\">\n",
       "        <textPath xlink:href=\"#arrow-3f060e64a8094ea196a5fe297da93860-0-1\" class=\"displacy-label\" startOffset=\"50%\" side=\"left\" fill=\"currentColor\" text-anchor=\"middle\">dobj</textPath>\n",
       "    </text>\n",
       "    <path class=\"displacy-arrowhead\" d=\"M390.0,266.5 L398.0,254.5 382.0,254.5\" fill=\"currentColor\"/>\n",
       "</g>\n",
       "\n",
       "<g class=\"displacy-arrow\">\n",
       "    <path class=\"displacy-arc\" id=\"arrow-3f060e64a8094ea196a5fe297da93860-0-2\" stroke-width=\"2px\" d=\"M245,264.5 C245,89.5 570.0,89.5 570.0,264.5\" fill=\"none\" stroke=\"currentColor\"/>\n",
       "    <text dy=\"1.25em\" style=\"font-size: 0.8em; letter-spacing: 1px\">\n",
       "        <textPath xlink:href=\"#arrow-3f060e64a8094ea196a5fe297da93860-0-2\" class=\"displacy-label\" startOffset=\"50%\" side=\"left\" fill=\"currentColor\" text-anchor=\"middle\">prep</textPath>\n",
       "    </text>\n",
       "    <path class=\"displacy-arrowhead\" d=\"M570.0,266.5 L578.0,254.5 562.0,254.5\" fill=\"currentColor\"/>\n",
       "</g>\n",
       "\n",
       "<g class=\"displacy-arrow\">\n",
       "    <path class=\"displacy-arc\" id=\"arrow-3f060e64a8094ea196a5fe297da93860-0-3\" stroke-width=\"2px\" d=\"M770,264.5 C770,177.0 915.0,177.0 915.0,264.5\" fill=\"none\" stroke=\"currentColor\"/>\n",
       "    <text dy=\"1.25em\" style=\"font-size: 0.8em; letter-spacing: 1px\">\n",
       "        <textPath xlink:href=\"#arrow-3f060e64a8094ea196a5fe297da93860-0-3\" class=\"displacy-label\" startOffset=\"50%\" side=\"left\" fill=\"currentColor\" text-anchor=\"middle\">det</textPath>\n",
       "    </text>\n",
       "    <path class=\"displacy-arrowhead\" d=\"M770,266.5 L762,254.5 778,254.5\" fill=\"currentColor\"/>\n",
       "</g>\n",
       "\n",
       "<g class=\"displacy-arrow\">\n",
       "    <path class=\"displacy-arc\" id=\"arrow-3f060e64a8094ea196a5fe297da93860-0-4\" stroke-width=\"2px\" d=\"M595,264.5 C595,89.5 920.0,89.5 920.0,264.5\" fill=\"none\" stroke=\"currentColor\"/>\n",
       "    <text dy=\"1.25em\" style=\"font-size: 0.8em; letter-spacing: 1px\">\n",
       "        <textPath xlink:href=\"#arrow-3f060e64a8094ea196a5fe297da93860-0-4\" class=\"displacy-label\" startOffset=\"50%\" side=\"left\" fill=\"currentColor\" text-anchor=\"middle\">pobj</textPath>\n",
       "    </text>\n",
       "    <path class=\"displacy-arrowhead\" d=\"M920.0,266.5 L928.0,254.5 912.0,254.5\" fill=\"currentColor\"/>\n",
       "</g>\n",
       "\n",
       "<g class=\"displacy-arrow\">\n",
       "    <path class=\"displacy-arc\" id=\"arrow-3f060e64a8094ea196a5fe297da93860-0-5\" stroke-width=\"2px\" d=\"M1120,264.5 C1120,177.0 1265.0,177.0 1265.0,264.5\" fill=\"none\" stroke=\"currentColor\"/>\n",
       "    <text dy=\"1.25em\" style=\"font-size: 0.8em; letter-spacing: 1px\">\n",
       "        <textPath xlink:href=\"#arrow-3f060e64a8094ea196a5fe297da93860-0-5\" class=\"displacy-label\" startOffset=\"50%\" side=\"left\" fill=\"currentColor\" text-anchor=\"middle\">aux</textPath>\n",
       "    </text>\n",
       "    <path class=\"displacy-arrowhead\" d=\"M1120,266.5 L1112,254.5 1128,254.5\" fill=\"currentColor\"/>\n",
       "</g>\n",
       "\n",
       "<g class=\"displacy-arrow\">\n",
       "    <path class=\"displacy-arc\" id=\"arrow-3f060e64a8094ea196a5fe297da93860-0-6\" stroke-width=\"2px\" d=\"M245,264.5 C245,2.0 1275.0,2.0 1275.0,264.5\" fill=\"none\" stroke=\"currentColor\"/>\n",
       "    <text dy=\"1.25em\" style=\"font-size: 0.8em; letter-spacing: 1px\">\n",
       "        <textPath xlink:href=\"#arrow-3f060e64a8094ea196a5fe297da93860-0-6\" class=\"displacy-label\" startOffset=\"50%\" side=\"left\" fill=\"currentColor\" text-anchor=\"middle\">advcl</textPath>\n",
       "    </text>\n",
       "    <path class=\"displacy-arrowhead\" d=\"M1275.0,266.5 L1283.0,254.5 1267.0,254.5\" fill=\"currentColor\"/>\n",
       "</g>\n",
       "\n",
       "<g class=\"displacy-arrow\">\n",
       "    <path class=\"displacy-arc\" id=\"arrow-3f060e64a8094ea196a5fe297da93860-0-7\" stroke-width=\"2px\" d=\"M1295,264.5 C1295,177.0 1440.0,177.0 1440.0,264.5\" fill=\"none\" stroke=\"currentColor\"/>\n",
       "    <text dy=\"1.25em\" style=\"font-size: 0.8em; letter-spacing: 1px\">\n",
       "        <textPath xlink:href=\"#arrow-3f060e64a8094ea196a5fe297da93860-0-7\" class=\"displacy-label\" startOffset=\"50%\" side=\"left\" fill=\"currentColor\" text-anchor=\"middle\">dobj</textPath>\n",
       "    </text>\n",
       "    <path class=\"displacy-arrowhead\" d=\"M1440.0,266.5 L1448.0,254.5 1432.0,254.5\" fill=\"currentColor\"/>\n",
       "</g>\n",
       "\n",
       "<g class=\"displacy-arrow\">\n",
       "    <path class=\"displacy-arc\" id=\"arrow-3f060e64a8094ea196a5fe297da93860-0-8\" stroke-width=\"2px\" d=\"M1295,264.5 C1295,89.5 1620.0,89.5 1620.0,264.5\" fill=\"none\" stroke=\"currentColor\"/>\n",
       "    <text dy=\"1.25em\" style=\"font-size: 0.8em; letter-spacing: 1px\">\n",
       "        <textPath xlink:href=\"#arrow-3f060e64a8094ea196a5fe297da93860-0-8\" class=\"displacy-label\" startOffset=\"50%\" side=\"left\" fill=\"currentColor\" text-anchor=\"middle\">advmod</textPath>\n",
       "    </text>\n",
       "    <path class=\"displacy-arrowhead\" d=\"M1620.0,266.5 L1628.0,254.5 1612.0,254.5\" fill=\"currentColor\"/>\n",
       "</g>\n",
       "</svg></span>"
      ],
      "text/plain": [
       "<IPython.core.display.HTML object>"
      ]
     },
     "metadata": {},
     "output_type": "display_data"
    },
    {
     "data": {
      "text/html": [
       "<span class=\"tex2jax_ignore\"><svg xmlns=\"http://www.w3.org/2000/svg\" xmlns:xlink=\"http://www.w3.org/1999/xlink\" xml:lang=\"en\" id=\"d6dda449f0d54504a4d6d8aaffbf8375-0\" class=\"displacy\" width=\"575\" height=\"224.5\" direction=\"ltr\" style=\"max-width: none; height: 224.5px; color: #000000; background: #ffffff; font-family: Arial; direction: ltr\">\n",
       "<text class=\"displacy-token\" fill=\"currentColor\" text-anchor=\"middle\" y=\"134.5\">\n",
       "    <tspan class=\"displacy-word\" fill=\"currentColor\" x=\"50\">she</tspan>\n",
       "    <tspan class=\"displacy-tag\" dy=\"2em\" fill=\"currentColor\" x=\"50\">PRON</tspan>\n",
       "</text>\n",
       "\n",
       "<text class=\"displacy-token\" fill=\"currentColor\" text-anchor=\"middle\" y=\"134.5\">\n",
       "    <tspan class=\"displacy-word\" fill=\"currentColor\" x=\"225\">demanded.</tspan>\n",
       "    <tspan class=\"displacy-tag\" dy=\"2em\" fill=\"currentColor\" x=\"225\">VERB</tspan>\n",
       "</text>\n",
       "\n",
       "<text class=\"displacy-token\" fill=\"currentColor\" text-anchor=\"middle\" y=\"134.5\">\n",
       "    <tspan class=\"displacy-word\" fill=\"currentColor\" x=\"400\"> </tspan>\n",
       "    <tspan class=\"displacy-tag\" dy=\"2em\" fill=\"currentColor\" x=\"400\">SPACE</tspan>\n",
       "</text>\n",
       "\n",
       "<g class=\"displacy-arrow\">\n",
       "    <path class=\"displacy-arc\" id=\"arrow-d6dda449f0d54504a4d6d8aaffbf8375-0-0\" stroke-width=\"2px\" d=\"M70,89.5 C70,2.0 225.0,2.0 225.0,89.5\" fill=\"none\" stroke=\"currentColor\"/>\n",
       "    <text dy=\"1.25em\" style=\"font-size: 0.8em; letter-spacing: 1px\">\n",
       "        <textPath xlink:href=\"#arrow-d6dda449f0d54504a4d6d8aaffbf8375-0-0\" class=\"displacy-label\" startOffset=\"50%\" side=\"left\" fill=\"currentColor\" text-anchor=\"middle\">nsubj</textPath>\n",
       "    </text>\n",
       "    <path class=\"displacy-arrowhead\" d=\"M70,91.5 L62,79.5 78,79.5\" fill=\"currentColor\"/>\n",
       "</g>\n",
       "\n",
       "<g class=\"displacy-arrow\">\n",
       "    <path class=\"displacy-arc\" id=\"arrow-d6dda449f0d54504a4d6d8aaffbf8375-0-1\" stroke-width=\"2px\" d=\"M245,89.5 C245,2.0 400.0,2.0 400.0,89.5\" fill=\"none\" stroke=\"currentColor\"/>\n",
       "    <text dy=\"1.25em\" style=\"font-size: 0.8em; letter-spacing: 1px\">\n",
       "        <textPath xlink:href=\"#arrow-d6dda449f0d54504a4d6d8aaffbf8375-0-1\" class=\"displacy-label\" startOffset=\"50%\" side=\"left\" fill=\"currentColor\" text-anchor=\"middle\">dep</textPath>\n",
       "    </text>\n",
       "    <path class=\"displacy-arrowhead\" d=\"M400.0,91.5 L408.0,79.5 392.0,79.5\" fill=\"currentColor\"/>\n",
       "</g>\n",
       "</svg></span>"
      ],
      "text/plain": [
       "<IPython.core.display.HTML object>"
      ]
     },
     "metadata": {},
     "output_type": "display_data"
    },
    {
     "data": {
      "text/html": [
       "<span class=\"tex2jax_ignore\"><svg xmlns=\"http://www.w3.org/2000/svg\" xmlns:xlink=\"http://www.w3.org/1999/xlink\" xml:lang=\"en\" id=\"052f05fdbbff4345aeacfae3d1b32890-0\" class=\"displacy\" width=\"1800\" height=\"574.5\" direction=\"ltr\" style=\"max-width: none; height: 574.5px; color: #000000; background: #ffffff; font-family: Arial; direction: ltr\">\n",
       "<text class=\"displacy-token\" fill=\"currentColor\" text-anchor=\"middle\" y=\"484.5\">\n",
       "    <tspan class=\"displacy-word\" fill=\"currentColor\" x=\"50\">Waving</tspan>\n",
       "    <tspan class=\"displacy-tag\" dy=\"2em\" fill=\"currentColor\" x=\"50\">VERB</tspan>\n",
       "</text>\n",
       "\n",
       "<text class=\"displacy-token\" fill=\"currentColor\" text-anchor=\"middle\" y=\"484.5\">\n",
       "    <tspan class=\"displacy-word\" fill=\"currentColor\" x=\"225\">her</tspan>\n",
       "    <tspan class=\"displacy-tag\" dy=\"2em\" fill=\"currentColor\" x=\"225\">PRON</tspan>\n",
       "</text>\n",
       "\n",
       "<text class=\"displacy-token\" fill=\"currentColor\" text-anchor=\"middle\" y=\"484.5\">\n",
       "    <tspan class=\"displacy-word\" fill=\"currentColor\" x=\"400\">credit</tspan>\n",
       "    <tspan class=\"displacy-tag\" dy=\"2em\" fill=\"currentColor\" x=\"400\">NOUN</tspan>\n",
       "</text>\n",
       "\n",
       "<text class=\"displacy-token\" fill=\"currentColor\" text-anchor=\"middle\" y=\"484.5\">\n",
       "    <tspan class=\"displacy-word\" fill=\"currentColor\" x=\"575\">card</tspan>\n",
       "    <tspan class=\"displacy-tag\" dy=\"2em\" fill=\"currentColor\" x=\"575\">NOUN</tspan>\n",
       "</text>\n",
       "\n",
       "<text class=\"displacy-token\" fill=\"currentColor\" text-anchor=\"middle\" y=\"484.5\">\n",
       "    <tspan class=\"displacy-word\" fill=\"currentColor\" x=\"750\">around</tspan>\n",
       "    <tspan class=\"displacy-tag\" dy=\"2em\" fill=\"currentColor\" x=\"750\">ADP</tspan>\n",
       "</text>\n",
       "\n",
       "<text class=\"displacy-token\" fill=\"currentColor\" text-anchor=\"middle\" y=\"484.5\">\n",
       "    <tspan class=\"displacy-word\" fill=\"currentColor\" x=\"925\">she</tspan>\n",
       "    <tspan class=\"displacy-tag\" dy=\"2em\" fill=\"currentColor\" x=\"925\">PRON</tspan>\n",
       "</text>\n",
       "\n",
       "<text class=\"displacy-token\" fill=\"currentColor\" text-anchor=\"middle\" y=\"484.5\">\n",
       "    <tspan class=\"displacy-word\" fill=\"currentColor\" x=\"1100\">screamed &quot;</tspan>\n",
       "    <tspan class=\"displacy-tag\" dy=\"2em\" fill=\"currentColor\" x=\"1100\">VERB</tspan>\n",
       "</text>\n",
       "\n",
       "<text class=\"displacy-token\" fill=\"currentColor\" text-anchor=\"middle\" y=\"484.5\">\n",
       "    <tspan class=\"displacy-word\" fill=\"currentColor\" x=\"1275\">Come</tspan>\n",
       "    <tspan class=\"displacy-tag\" dy=\"2em\" fill=\"currentColor\" x=\"1275\">VERB</tspan>\n",
       "</text>\n",
       "\n",
       "<text class=\"displacy-token\" fill=\"currentColor\" text-anchor=\"middle\" y=\"484.5\">\n",
       "    <tspan class=\"displacy-word\" fill=\"currentColor\" x=\"1450\">on</tspan>\n",
       "    <tspan class=\"displacy-tag\" dy=\"2em\" fill=\"currentColor\" x=\"1450\">ADP</tspan>\n",
       "</text>\n",
       "\n",
       "<text class=\"displacy-token\" fill=\"currentColor\" text-anchor=\"middle\" y=\"484.5\">\n",
       "    <tspan class=\"displacy-word\" fill=\"currentColor\" x=\"1625\">people!</tspan>\n",
       "    <tspan class=\"displacy-tag\" dy=\"2em\" fill=\"currentColor\" x=\"1625\">NOUN</tspan>\n",
       "</text>\n",
       "\n",
       "<g class=\"displacy-arrow\">\n",
       "    <path class=\"displacy-arc\" id=\"arrow-052f05fdbbff4345aeacfae3d1b32890-0-0\" stroke-width=\"2px\" d=\"M70,439.5 C70,2.0 1100.0,2.0 1100.0,439.5\" fill=\"none\" stroke=\"currentColor\"/>\n",
       "    <text dy=\"1.25em\" style=\"font-size: 0.8em; letter-spacing: 1px\">\n",
       "        <textPath xlink:href=\"#arrow-052f05fdbbff4345aeacfae3d1b32890-0-0\" class=\"displacy-label\" startOffset=\"50%\" side=\"left\" fill=\"currentColor\" text-anchor=\"middle\">advcl</textPath>\n",
       "    </text>\n",
       "    <path class=\"displacy-arrowhead\" d=\"M70,441.5 L62,429.5 78,429.5\" fill=\"currentColor\"/>\n",
       "</g>\n",
       "\n",
       "<g class=\"displacy-arrow\">\n",
       "    <path class=\"displacy-arc\" id=\"arrow-052f05fdbbff4345aeacfae3d1b32890-0-1\" stroke-width=\"2px\" d=\"M245,439.5 C245,264.5 560.0,264.5 560.0,439.5\" fill=\"none\" stroke=\"currentColor\"/>\n",
       "    <text dy=\"1.25em\" style=\"font-size: 0.8em; letter-spacing: 1px\">\n",
       "        <textPath xlink:href=\"#arrow-052f05fdbbff4345aeacfae3d1b32890-0-1\" class=\"displacy-label\" startOffset=\"50%\" side=\"left\" fill=\"currentColor\" text-anchor=\"middle\">poss</textPath>\n",
       "    </text>\n",
       "    <path class=\"displacy-arrowhead\" d=\"M245,441.5 L237,429.5 253,429.5\" fill=\"currentColor\"/>\n",
       "</g>\n",
       "\n",
       "<g class=\"displacy-arrow\">\n",
       "    <path class=\"displacy-arc\" id=\"arrow-052f05fdbbff4345aeacfae3d1b32890-0-2\" stroke-width=\"2px\" d=\"M420,439.5 C420,352.0 555.0,352.0 555.0,439.5\" fill=\"none\" stroke=\"currentColor\"/>\n",
       "    <text dy=\"1.25em\" style=\"font-size: 0.8em; letter-spacing: 1px\">\n",
       "        <textPath xlink:href=\"#arrow-052f05fdbbff4345aeacfae3d1b32890-0-2\" class=\"displacy-label\" startOffset=\"50%\" side=\"left\" fill=\"currentColor\" text-anchor=\"middle\">compound</textPath>\n",
       "    </text>\n",
       "    <path class=\"displacy-arrowhead\" d=\"M420,441.5 L412,429.5 428,429.5\" fill=\"currentColor\"/>\n",
       "</g>\n",
       "\n",
       "<g class=\"displacy-arrow\">\n",
       "    <path class=\"displacy-arc\" id=\"arrow-052f05fdbbff4345aeacfae3d1b32890-0-3\" stroke-width=\"2px\" d=\"M70,439.5 C70,177.0 565.0,177.0 565.0,439.5\" fill=\"none\" stroke=\"currentColor\"/>\n",
       "    <text dy=\"1.25em\" style=\"font-size: 0.8em; letter-spacing: 1px\">\n",
       "        <textPath xlink:href=\"#arrow-052f05fdbbff4345aeacfae3d1b32890-0-3\" class=\"displacy-label\" startOffset=\"50%\" side=\"left\" fill=\"currentColor\" text-anchor=\"middle\">dobj</textPath>\n",
       "    </text>\n",
       "    <path class=\"displacy-arrowhead\" d=\"M565.0,441.5 L573.0,429.5 557.0,429.5\" fill=\"currentColor\"/>\n",
       "</g>\n",
       "\n",
       "<g class=\"displacy-arrow\">\n",
       "    <path class=\"displacy-arc\" id=\"arrow-052f05fdbbff4345aeacfae3d1b32890-0-4\" stroke-width=\"2px\" d=\"M70,439.5 C70,89.5 745.0,89.5 745.0,439.5\" fill=\"none\" stroke=\"currentColor\"/>\n",
       "    <text dy=\"1.25em\" style=\"font-size: 0.8em; letter-spacing: 1px\">\n",
       "        <textPath xlink:href=\"#arrow-052f05fdbbff4345aeacfae3d1b32890-0-4\" class=\"displacy-label\" startOffset=\"50%\" side=\"left\" fill=\"currentColor\" text-anchor=\"middle\">prep</textPath>\n",
       "    </text>\n",
       "    <path class=\"displacy-arrowhead\" d=\"M745.0,441.5 L753.0,429.5 737.0,429.5\" fill=\"currentColor\"/>\n",
       "</g>\n",
       "\n",
       "<g class=\"displacy-arrow\">\n",
       "    <path class=\"displacy-arc\" id=\"arrow-052f05fdbbff4345aeacfae3d1b32890-0-5\" stroke-width=\"2px\" d=\"M945,439.5 C945,352.0 1080.0,352.0 1080.0,439.5\" fill=\"none\" stroke=\"currentColor\"/>\n",
       "    <text dy=\"1.25em\" style=\"font-size: 0.8em; letter-spacing: 1px\">\n",
       "        <textPath xlink:href=\"#arrow-052f05fdbbff4345aeacfae3d1b32890-0-5\" class=\"displacy-label\" startOffset=\"50%\" side=\"left\" fill=\"currentColor\" text-anchor=\"middle\">nsubj</textPath>\n",
       "    </text>\n",
       "    <path class=\"displacy-arrowhead\" d=\"M945,441.5 L937,429.5 953,429.5\" fill=\"currentColor\"/>\n",
       "</g>\n",
       "\n",
       "<g class=\"displacy-arrow\">\n",
       "    <path class=\"displacy-arc\" id=\"arrow-052f05fdbbff4345aeacfae3d1b32890-0-6\" stroke-width=\"2px\" d=\"M1120,439.5 C1120,352.0 1255.0,352.0 1255.0,439.5\" fill=\"none\" stroke=\"currentColor\"/>\n",
       "    <text dy=\"1.25em\" style=\"font-size: 0.8em; letter-spacing: 1px\">\n",
       "        <textPath xlink:href=\"#arrow-052f05fdbbff4345aeacfae3d1b32890-0-6\" class=\"displacy-label\" startOffset=\"50%\" side=\"left\" fill=\"currentColor\" text-anchor=\"middle\">xcomp</textPath>\n",
       "    </text>\n",
       "    <path class=\"displacy-arrowhead\" d=\"M1255.0,441.5 L1263.0,429.5 1247.0,429.5\" fill=\"currentColor\"/>\n",
       "</g>\n",
       "\n",
       "<g class=\"displacy-arrow\">\n",
       "    <path class=\"displacy-arc\" id=\"arrow-052f05fdbbff4345aeacfae3d1b32890-0-7\" stroke-width=\"2px\" d=\"M1295,439.5 C1295,352.0 1430.0,352.0 1430.0,439.5\" fill=\"none\" stroke=\"currentColor\"/>\n",
       "    <text dy=\"1.25em\" style=\"font-size: 0.8em; letter-spacing: 1px\">\n",
       "        <textPath xlink:href=\"#arrow-052f05fdbbff4345aeacfae3d1b32890-0-7\" class=\"displacy-label\" startOffset=\"50%\" side=\"left\" fill=\"currentColor\" text-anchor=\"middle\">prep</textPath>\n",
       "    </text>\n",
       "    <path class=\"displacy-arrowhead\" d=\"M1430.0,441.5 L1438.0,429.5 1422.0,429.5\" fill=\"currentColor\"/>\n",
       "</g>\n",
       "\n",
       "<g class=\"displacy-arrow\">\n",
       "    <path class=\"displacy-arc\" id=\"arrow-052f05fdbbff4345aeacfae3d1b32890-0-8\" stroke-width=\"2px\" d=\"M1470,439.5 C1470,352.0 1605.0,352.0 1605.0,439.5\" fill=\"none\" stroke=\"currentColor\"/>\n",
       "    <text dy=\"1.25em\" style=\"font-size: 0.8em; letter-spacing: 1px\">\n",
       "        <textPath xlink:href=\"#arrow-052f05fdbbff4345aeacfae3d1b32890-0-8\" class=\"displacy-label\" startOffset=\"50%\" side=\"left\" fill=\"currentColor\" text-anchor=\"middle\">pobj</textPath>\n",
       "    </text>\n",
       "    <path class=\"displacy-arrowhead\" d=\"M1605.0,441.5 L1613.0,429.5 1597.0,429.5\" fill=\"currentColor\"/>\n",
       "</g>\n",
       "</svg></span>"
      ],
      "text/plain": [
       "<IPython.core.display.HTML object>"
      ]
     },
     "metadata": {},
     "output_type": "display_data"
    },
    {
     "data": {
      "text/html": [
       "<span class=\"tex2jax_ignore\"><svg xmlns=\"http://www.w3.org/2000/svg\" xmlns:xlink=\"http://www.w3.org/1999/xlink\" xml:lang=\"en\" id=\"28b07d07edfd440bb72e50fa70e42a53-0\" class=\"displacy\" width=\"1100\" height=\"399.5\" direction=\"ltr\" style=\"max-width: none; height: 399.5px; color: #000000; background: #ffffff; font-family: Arial; direction: ltr\">\n",
       "<text class=\"displacy-token\" fill=\"currentColor\" text-anchor=\"middle\" y=\"309.5\">\n",
       "    <tspan class=\"displacy-word\" fill=\"currentColor\" x=\"50\">Allow</tspan>\n",
       "    <tspan class=\"displacy-tag\" dy=\"2em\" fill=\"currentColor\" x=\"50\">VERB</tspan>\n",
       "</text>\n",
       "\n",
       "<text class=\"displacy-token\" fill=\"currentColor\" text-anchor=\"middle\" y=\"309.5\">\n",
       "    <tspan class=\"displacy-word\" fill=\"currentColor\" x=\"225\">me</tspan>\n",
       "    <tspan class=\"displacy-tag\" dy=\"2em\" fill=\"currentColor\" x=\"225\">PRON</tspan>\n",
       "</text>\n",
       "\n",
       "<text class=\"displacy-token\" fill=\"currentColor\" text-anchor=\"middle\" y=\"309.5\">\n",
       "    <tspan class=\"displacy-word\" fill=\"currentColor\" x=\"400\">to</tspan>\n",
       "    <tspan class=\"displacy-tag\" dy=\"2em\" fill=\"currentColor\" x=\"400\">PART</tspan>\n",
       "</text>\n",
       "\n",
       "<text class=\"displacy-token\" fill=\"currentColor\" text-anchor=\"middle\" y=\"309.5\">\n",
       "    <tspan class=\"displacy-word\" fill=\"currentColor\" x=\"575\">make</tspan>\n",
       "    <tspan class=\"displacy-tag\" dy=\"2em\" fill=\"currentColor\" x=\"575\">VERB</tspan>\n",
       "</text>\n",
       "\n",
       "<text class=\"displacy-token\" fill=\"currentColor\" text-anchor=\"middle\" y=\"309.5\">\n",
       "    <tspan class=\"displacy-word\" fill=\"currentColor\" x=\"750\">that</tspan>\n",
       "    <tspan class=\"displacy-tag\" dy=\"2em\" fill=\"currentColor\" x=\"750\">DET</tspan>\n",
       "</text>\n",
       "\n",
       "<text class=\"displacy-token\" fill=\"currentColor\" text-anchor=\"middle\" y=\"309.5\">\n",
       "    <tspan class=\"displacy-word\" fill=\"currentColor\" x=\"925\">payment&quot;.</tspan>\n",
       "    <tspan class=\"displacy-tag\" dy=\"2em\" fill=\"currentColor\" x=\"925\">NOUN</tspan>\n",
       "</text>\n",
       "\n",
       "<g class=\"displacy-arrow\">\n",
       "    <path class=\"displacy-arc\" id=\"arrow-28b07d07edfd440bb72e50fa70e42a53-0-0\" stroke-width=\"2px\" d=\"M245,264.5 C245,89.5 570.0,89.5 570.0,264.5\" fill=\"none\" stroke=\"currentColor\"/>\n",
       "    <text dy=\"1.25em\" style=\"font-size: 0.8em; letter-spacing: 1px\">\n",
       "        <textPath xlink:href=\"#arrow-28b07d07edfd440bb72e50fa70e42a53-0-0\" class=\"displacy-label\" startOffset=\"50%\" side=\"left\" fill=\"currentColor\" text-anchor=\"middle\">nsubj</textPath>\n",
       "    </text>\n",
       "    <path class=\"displacy-arrowhead\" d=\"M245,266.5 L237,254.5 253,254.5\" fill=\"currentColor\"/>\n",
       "</g>\n",
       "\n",
       "<g class=\"displacy-arrow\">\n",
       "    <path class=\"displacy-arc\" id=\"arrow-28b07d07edfd440bb72e50fa70e42a53-0-1\" stroke-width=\"2px\" d=\"M420,264.5 C420,177.0 565.0,177.0 565.0,264.5\" fill=\"none\" stroke=\"currentColor\"/>\n",
       "    <text dy=\"1.25em\" style=\"font-size: 0.8em; letter-spacing: 1px\">\n",
       "        <textPath xlink:href=\"#arrow-28b07d07edfd440bb72e50fa70e42a53-0-1\" class=\"displacy-label\" startOffset=\"50%\" side=\"left\" fill=\"currentColor\" text-anchor=\"middle\">aux</textPath>\n",
       "    </text>\n",
       "    <path class=\"displacy-arrowhead\" d=\"M420,266.5 L412,254.5 428,254.5\" fill=\"currentColor\"/>\n",
       "</g>\n",
       "\n",
       "<g class=\"displacy-arrow\">\n",
       "    <path class=\"displacy-arc\" id=\"arrow-28b07d07edfd440bb72e50fa70e42a53-0-2\" stroke-width=\"2px\" d=\"M70,264.5 C70,2.0 575.0,2.0 575.0,264.5\" fill=\"none\" stroke=\"currentColor\"/>\n",
       "    <text dy=\"1.25em\" style=\"font-size: 0.8em; letter-spacing: 1px\">\n",
       "        <textPath xlink:href=\"#arrow-28b07d07edfd440bb72e50fa70e42a53-0-2\" class=\"displacy-label\" startOffset=\"50%\" side=\"left\" fill=\"currentColor\" text-anchor=\"middle\">ccomp</textPath>\n",
       "    </text>\n",
       "    <path class=\"displacy-arrowhead\" d=\"M575.0,266.5 L583.0,254.5 567.0,254.5\" fill=\"currentColor\"/>\n",
       "</g>\n",
       "\n",
       "<g class=\"displacy-arrow\">\n",
       "    <path class=\"displacy-arc\" id=\"arrow-28b07d07edfd440bb72e50fa70e42a53-0-3\" stroke-width=\"2px\" d=\"M770,264.5 C770,177.0 915.0,177.0 915.0,264.5\" fill=\"none\" stroke=\"currentColor\"/>\n",
       "    <text dy=\"1.25em\" style=\"font-size: 0.8em; letter-spacing: 1px\">\n",
       "        <textPath xlink:href=\"#arrow-28b07d07edfd440bb72e50fa70e42a53-0-3\" class=\"displacy-label\" startOffset=\"50%\" side=\"left\" fill=\"currentColor\" text-anchor=\"middle\">det</textPath>\n",
       "    </text>\n",
       "    <path class=\"displacy-arrowhead\" d=\"M770,266.5 L762,254.5 778,254.5\" fill=\"currentColor\"/>\n",
       "</g>\n",
       "\n",
       "<g class=\"displacy-arrow\">\n",
       "    <path class=\"displacy-arc\" id=\"arrow-28b07d07edfd440bb72e50fa70e42a53-0-4\" stroke-width=\"2px\" d=\"M595,264.5 C595,89.5 920.0,89.5 920.0,264.5\" fill=\"none\" stroke=\"currentColor\"/>\n",
       "    <text dy=\"1.25em\" style=\"font-size: 0.8em; letter-spacing: 1px\">\n",
       "        <textPath xlink:href=\"#arrow-28b07d07edfd440bb72e50fa70e42a53-0-4\" class=\"displacy-label\" startOffset=\"50%\" side=\"left\" fill=\"currentColor\" text-anchor=\"middle\">dobj</textPath>\n",
       "    </text>\n",
       "    <path class=\"displacy-arrowhead\" d=\"M920.0,266.5 L928.0,254.5 912.0,254.5\" fill=\"currentColor\"/>\n",
       "</g>\n",
       "</svg></span>"
      ],
      "text/plain": [
       "<IPython.core.display.HTML object>"
      ]
     },
     "metadata": {},
     "output_type": "display_data"
    }
   ],
   "source": [
    "from metrics import load_spacy_engine, get_sentences\n",
    "from spacy import displacy\n",
    "\n",
    "nlp = load_spacy_engine()\n",
    "# text = \"In the heart of an ancient library, where the dust of forgotten lore hung thick in the air, there existed a tome bound not in leather, but in the very fabric of twilight. Its pages, scribed in an ethereal script, spoke of a realm where shadows held dominion and light dared not trespass. A curious scholar, whose eyes hungered for the secrets of the universe, traced the arcane words with a trembling finger, unwittingly offering a payment of his own shadow to the gloom that hungered for substance. As the last syllable echoed through the silent stacks, his silhouette detached from his feet and merged with the book, leaving him pale and luminous, a being of pure radiance in a world that had forgotten the sun. And so, in the library's deepest corner, the scholar's shadow lived on within the pages, a whisper of darkness in an existence now defined by endless light.\"\n",
    "text = \"Rose shouldn't be forced to exist in this gloom. The UK weather was so depressing. \\\"Get me on a plane to hotter climes immediately!\\\" she demanded.  Waving her credit card around she screamed \\\"Come on people! Allow me to make that payment\\\".\"\n",
    "sentences = get_sentences(text)\n",
    "\n",
    "for sentence in sentences:\n",
    "    doc = nlp(sentence)\n",
    "    displacy.render(doc, style='dep')"
   ]
  },
  {
   "cell_type": "code",
   "execution_count": 13,
   "metadata": {},
   "outputs": [
    {
     "name": "stdout",
     "output_type": "stream",
     "text": [
      "Sentence: In the heart of an ancient library, where the dust of forgotten lore hung thick in the air, there existed a tome bound not in leather, but in the very fabric of twilight.\n",
      "Number of clauses: 4\n",
      "Sentence: Its pages, scribed in an ethereal script, spoke of a realm where shadows held dominion and light dared not trespass.\n",
      "Number of clauses: 5\n",
      "Sentence: A curious scholar, whose eyes hungered for the secrets of the universe, traced the arcane words with a trembling finger, unwittingly offering a payment of his own shadow to the gloom that hungered for substance.\n",
      "Number of clauses: 3\n",
      "Sentence: As the last syllable echoed through the silent stacks, his silhouette detached from his feet and merged with the book, leaving him pale and luminous, a being of pure radiance in a world that had forgotten the sun.\n",
      "Number of clauses: 7\n",
      "Sentence: And so, in the library's deepest corner, the scholar's shadow lived on within the pages, a whisper of darkness in an existence now defined by endless light.\n",
      "Number of clauses: 2\n"
     ]
    }
   ],
   "source": [
    "from metrics import load_spacy_engine, get_sentences\n",
    "from spacy import displacy\n",
    "\n",
    "nlp = load_spacy_engine()\n",
    "text = \"In the heart of an ancient library, where the dust of forgotten lore hung thick in the air, there existed a tome bound not in leather, but in the very fabric of twilight. Its pages, scribed in an ethereal script, spoke of a realm where shadows held dominion and light dared not trespass. A curious scholar, whose eyes hungered for the secrets of the universe, traced the arcane words with a trembling finger, unwittingly offering a payment of his own shadow to the gloom that hungered for substance. As the last syllable echoed through the silent stacks, his silhouette detached from his feet and merged with the book, leaving him pale and luminous, a being of pure radiance in a world that had forgotten the sun. And so, in the library's deepest corner, the scholar's shadow lived on within the pages, a whisper of darkness in an existence now defined by endless light.\"\n",
    "sentences = get_sentences(text)\n",
    "\n",
    "clause_labels = [\"conj\", \"cc\", \"preconj\", \"ccomp\", \"xcomp\", \"acl\", \"relcl\", \"advcl\"]\n",
    "\n",
    "for sentence in sentences:\n",
    "    doc = nlp(sentence)\n",
    "    num_clauses = 0\n",
    "    for token in doc:\n",
    "        if token.dep_ in clause_labels:\n",
    "            num_clauses += 1\n",
    "    print(f\"Sentence: {sentence}\")\n",
    "    print(f\"Number of clauses: {num_clauses}\")"
   ]
  },
  {
   "cell_type": "code",
   "execution_count": 23,
   "metadata": {},
   "outputs": [
    {
     "name": "stdout",
     "output_type": "stream",
     "text": [
      "Token: In\n",
      "paths: [['prep', 'pobj', 'det'], ['prep', 'pobj', 'prep', 'pobj', 'det'], ['prep', 'pobj', 'prep', 'pobj', 'amod'], ['prep', 'pobj', 'prep', 'pobj', 'punct'], ['prep', 'pobj', 'prep', 'pobj', 'relcl', 'advmod'], ['prep', 'pobj', 'prep', 'pobj', 'relcl', 'nsubj', 'det'], ['prep', 'pobj', 'prep', 'pobj', 'relcl', 'nsubj', 'prep', 'pobj', 'amod'], ['prep', 'pobj', 'prep', 'pobj', 'relcl', 'advmod'], ['prep', 'pobj', 'prep', 'pobj', 'relcl', 'prep', 'pobj', 'det']]\n",
      "Token: the\n",
      "paths: [['det']]\n",
      "Token: heart\n",
      "paths: [['pobj', 'det'], ['pobj', 'prep', 'pobj', 'det'], ['pobj', 'prep', 'pobj', 'amod'], ['pobj', 'prep', 'pobj', 'punct'], ['pobj', 'prep', 'pobj', 'relcl', 'advmod'], ['pobj', 'prep', 'pobj', 'relcl', 'nsubj', 'det'], ['pobj', 'prep', 'pobj', 'relcl', 'nsubj', 'prep', 'pobj', 'amod'], ['pobj', 'prep', 'pobj', 'relcl', 'advmod'], ['pobj', 'prep', 'pobj', 'relcl', 'prep', 'pobj', 'det']]\n",
      "Token: of\n",
      "paths: [['prep', 'pobj', 'det'], ['prep', 'pobj', 'amod'], ['prep', 'pobj', 'punct'], ['prep', 'pobj', 'relcl', 'advmod'], ['prep', 'pobj', 'relcl', 'nsubj', 'det'], ['prep', 'pobj', 'relcl', 'nsubj', 'prep', 'pobj', 'amod'], ['prep', 'pobj', 'relcl', 'advmod'], ['prep', 'pobj', 'relcl', 'prep', 'pobj', 'det']]\n",
      "Token: an\n",
      "paths: [['det']]\n",
      "Token: ancient\n",
      "paths: [['amod']]\n",
      "Token: library\n",
      "paths: [['pobj', 'det'], ['pobj', 'amod'], ['pobj', 'punct'], ['pobj', 'relcl', 'advmod'], ['pobj', 'relcl', 'nsubj', 'det'], ['pobj', 'relcl', 'nsubj', 'prep', 'pobj', 'amod'], ['pobj', 'relcl', 'advmod'], ['pobj', 'relcl', 'prep', 'pobj', 'det']]\n",
      "Token: ,\n",
      "paths: [['punct']]\n",
      "Token: where\n",
      "paths: [['advmod']]\n",
      "Token: the\n",
      "paths: [['det']]\n",
      "Token: dust\n",
      "paths: [['nsubj', 'det'], ['nsubj', 'prep', 'pobj', 'amod']]\n",
      "Token: of\n",
      "paths: [['prep', 'pobj', 'amod']]\n",
      "Token: forgotten\n",
      "paths: [['amod']]\n",
      "Token: lore\n",
      "paths: [['pobj', 'amod']]\n",
      "Token: hung\n",
      "paths: [['relcl', 'advmod'], ['relcl', 'nsubj', 'det'], ['relcl', 'nsubj', 'prep', 'pobj', 'amod'], ['relcl', 'advmod'], ['relcl', 'prep', 'pobj', 'det']]\n",
      "Token: thick\n",
      "paths: [['advmod']]\n",
      "Token: in\n",
      "paths: [['prep', 'pobj', 'det']]\n",
      "Token: the\n",
      "paths: [['det']]\n",
      "Token: air\n",
      "paths: [['pobj', 'det']]\n",
      "Token: ,\n",
      "paths: [['punct']]\n",
      "Token: there\n",
      "paths: [['expl']]\n",
      "Token: existed\n",
      "paths: [['ROOT', 'prep', 'pobj', 'det'], ['ROOT', 'prep', 'pobj', 'prep', 'pobj', 'det'], ['ROOT', 'prep', 'pobj', 'prep', 'pobj', 'amod'], ['ROOT', 'prep', 'pobj', 'prep', 'pobj', 'punct'], ['ROOT', 'prep', 'pobj', 'prep', 'pobj', 'relcl', 'advmod'], ['ROOT', 'prep', 'pobj', 'prep', 'pobj', 'relcl', 'nsubj', 'det'], ['ROOT', 'prep', 'pobj', 'prep', 'pobj', 'relcl', 'nsubj', 'prep', 'pobj', 'amod'], ['ROOT', 'prep', 'pobj', 'prep', 'pobj', 'relcl', 'advmod'], ['ROOT', 'prep', 'pobj', 'prep', 'pobj', 'relcl', 'prep', 'pobj', 'det'], ['ROOT', 'punct'], ['ROOT', 'expl'], ['ROOT', 'dobj', 'det'], ['ROOT', 'dobj', 'acl', 'prep', 'neg'], ['ROOT', 'dobj', 'acl', 'prep', 'pobj'], ['ROOT', 'punct'], ['ROOT', 'cc'], ['ROOT', 'conj', 'pobj', 'det'], ['ROOT', 'conj', 'pobj', 'amod'], ['ROOT', 'conj', 'pobj', 'prep', 'pobj'], ['ROOT', 'punct']]\n",
      "Token: a\n",
      "paths: [['det']]\n",
      "Token: tome\n",
      "paths: [['dobj', 'det'], ['dobj', 'acl', 'prep', 'neg'], ['dobj', 'acl', 'prep', 'pobj']]\n",
      "Token: bound\n",
      "paths: [['acl', 'prep', 'neg'], ['acl', 'prep', 'pobj']]\n",
      "Token: not\n",
      "paths: [['neg']]\n",
      "Token: in\n",
      "paths: [['prep', 'neg'], ['prep', 'pobj']]\n",
      "Token: leather\n",
      "paths: [['pobj']]\n",
      "Token: ,\n",
      "paths: [['punct']]\n",
      "Token: but\n",
      "paths: [['cc']]\n",
      "Token: in\n",
      "paths: [['conj', 'pobj', 'det'], ['conj', 'pobj', 'amod'], ['conj', 'pobj', 'prep', 'pobj']]\n",
      "Token: the\n",
      "paths: [['det']]\n",
      "Token: very\n",
      "paths: [['amod']]\n",
      "Token: fabric\n",
      "paths: [['pobj', 'det'], ['pobj', 'amod'], ['pobj', 'prep', 'pobj']]\n",
      "Token: of\n",
      "paths: [['prep', 'pobj']]\n",
      "Token: twilight\n",
      "paths: [['pobj']]\n",
      "Token: .\n",
      "paths: [['punct']]\n"
     ]
    }
   ],
   "source": [
    "from metrics import load_spacy_engine, get_sentences\n",
    "from spacy import displacy\n",
    "\n",
    "nlp = load_spacy_engine()\n",
    "text = \"In the heart of an ancient library, where the dust of forgotten lore hung thick in the air, there existed a tome bound not in leather, but in the very fabric of twilight. Its pages, scribed in an ethereal script, spoke of a realm where shadows held dominion and light dared not trespass. A curious scholar, whose eyes hungered for the secrets of the universe, traced the arcane words with a trembling finger, unwittingly offering a payment of his own shadow to the gloom that hungered for substance. As the last syllable echoed through the silent stacks, his silhouette detached from his feet and merged with the book, leaving him pale and luminous, a being of pure radiance in a world that had forgotten the sun. And so, in the library's deepest corner, the scholar's shadow lived on within the pages, a whisper of darkness in an existence now defined by endless light.\"\n",
    "sentences = get_sentences(text)\n",
    "\n",
    "def get_paths(token):\n",
    "    if not list(token.children):\n",
    "        return [[token.dep_]]\n",
    "    paths = []\n",
    "    for child in token.children:\n",
    "        child_paths = get_paths(child)\n",
    "        for path in child_paths:\n",
    "            paths.append([token.dep_] + path)\n",
    "    return paths\n",
    "\n",
    "for sentence in sentences:\n",
    "    doc = nlp(sentence)\n",
    "    dep_paths = []\n",
    "    for token in doc:\n",
    "        paths = get_paths(token)\n",
    "        print(f\"Token: {token.text}\")\n",
    "        print(f\"paths: {paths}\")\n",
    "        # dep_paths.extend(paths)\n",
    "    break"
   ]
  },
  {
   "cell_type": "code",
   "execution_count": 1,
   "metadata": {},
   "outputs": [
    {
     "name": "stdout",
     "output_type": "stream",
     "text": [
      "Loading spacy engine: en_core_web_sm\n"
     ]
    }
   ],
   "source": [
    "from metrics import compute_dependency_complexity\n",
    "\n",
    "text = \"In the heart of an ancient library, where the dust of forgotten lore hung thick in the air, there existed a tome bound not in leather, but in the very fabric of twilight. Its pages, scribed in an ethereal script, spoke of a realm where shadows held dominion and light dared not trespass. A curious scholar, whose eyes hungered for the secrets of the universe, traced the arcane words with a trembling finger, unwittingly offering a payment of his own shadow to the gloom that hungered for substance. As the last syllable echoed through the silent stacks, his silhouette detached from his feet and merged with the book, leaving him pale and luminous, a being of pure radiance in a world that had forgotten the sun. And so, in the library's deepest corner, the scholar's shadow lived on within the pages, a whisper of darkness in an existence now defined by endless light.\"\n",
    "dep_paths, dep_num_clauses = compute_dependency_complexity(text)"
   ]
  },
  {
   "cell_type": "code",
   "execution_count": 3,
   "metadata": {},
   "outputs": [
    {
     "data": {
      "text/plain": [
       "[4, 5, 3, 7, 2]"
      ]
     },
     "execution_count": 3,
     "metadata": {},
     "output_type": "execute_result"
    }
   ],
   "source": [
    "dep_num_clauses"
   ]
  },
  {
   "cell_type": "code",
   "execution_count": 4,
   "metadata": {},
   "outputs": [],
   "source": [
    "text = \"Rose shouldn't be forced to exist in this gloom. The UK weather was so depressing. \\\"Get me on a plane to hotter climes immediately!\\\" she demanded.  Waving her credit card around she screamed \\\"Come on people! Allow me to make that payment\\\".\"\n",
    "dep_paths, dep_num_clauses = compute_dependency_complexity(text)"
   ]
  },
  {
   "cell_type": "code",
   "execution_count": 5,
   "metadata": {},
   "outputs": [
    {
     "data": {
      "text/plain": [
       "[Counter({('aux',): 2,\n",
       "          ('nsubjpass',): 1,\n",
       "          ('neg',): 1,\n",
       "          ('auxpass',): 1,\n",
       "          ('ROOT', 'nsubjpass'): 1,\n",
       "          ('ROOT', 'aux'): 1,\n",
       "          ('ROOT', 'neg'): 1,\n",
       "          ('ROOT', 'auxpass'): 1,\n",
       "          ('ROOT', 'xcomp', 'aux'): 1,\n",
       "          ('ROOT', 'xcomp', 'prep', 'pobj', 'det'): 1,\n",
       "          ('ROOT', 'punct'): 1,\n",
       "          ('xcomp', 'aux'): 1,\n",
       "          ('xcomp', 'prep', 'pobj', 'det'): 1,\n",
       "          ('prep', 'pobj', 'det'): 1,\n",
       "          ('det',): 1,\n",
       "          ('pobj', 'det'): 1,\n",
       "          ('punct',): 1}),\n",
       " Counter({('det',): 1,\n",
       "          ('compound',): 1,\n",
       "          ('nsubj', 'det'): 1,\n",
       "          ('nsubj', 'compound'): 1,\n",
       "          ('ROOT', 'nsubj', 'det'): 1,\n",
       "          ('ROOT', 'nsubj', 'compound'): 1,\n",
       "          ('ROOT', 'acomp', 'advmod'): 1,\n",
       "          ('ROOT', 'punct'): 1,\n",
       "          ('advmod',): 1,\n",
       "          ('acomp', 'advmod'): 1,\n",
       "          ('punct',): 1}),\n",
       " Counter({('punct',): 3,\n",
       "          ('ROOT', 'punct'): 3,\n",
       "          ('dobj',): 2,\n",
       "          ('ROOT', 'dobj'): 1,\n",
       "          ('ROOT', 'prep', 'pobj', 'det'): 1,\n",
       "          ('ROOT', 'advcl', 'aux'): 1,\n",
       "          ('ROOT', 'advcl', 'dobj'): 1,\n",
       "          ('ROOT', 'advcl', 'advmod'): 1,\n",
       "          ('prep', 'pobj', 'det'): 1,\n",
       "          ('det',): 1,\n",
       "          ('pobj', 'det'): 1,\n",
       "          ('aux',): 1,\n",
       "          ('advcl', 'aux'): 1,\n",
       "          ('advcl', 'dobj'): 1,\n",
       "          ('advcl', 'advmod'): 1,\n",
       "          ('advmod',): 1}),\n",
       " Counter({('nsubj',): 1,\n",
       "          ('ROOT', 'nsubj'): 1,\n",
       "          ('ROOT', 'punct', 'dep'): 1,\n",
       "          ('punct', 'dep'): 1,\n",
       "          ('dep',): 1}),\n",
       " Counter({('punct',): 2,\n",
       "          ('advcl', 'dobj', 'poss'): 1,\n",
       "          ('advcl', 'dobj', 'compound'): 1,\n",
       "          ('advcl', 'prep'): 1,\n",
       "          ('poss',): 1,\n",
       "          ('compound',): 1,\n",
       "          ('dobj', 'poss'): 1,\n",
       "          ('dobj', 'compound'): 1,\n",
       "          ('prep',): 1,\n",
       "          ('nsubj',): 1,\n",
       "          ('ROOT', 'advcl', 'dobj', 'poss'): 1,\n",
       "          ('ROOT', 'advcl', 'dobj', 'compound'): 1,\n",
       "          ('ROOT', 'advcl', 'prep'): 1,\n",
       "          ('ROOT', 'nsubj'): 1,\n",
       "          ('ROOT', 'xcomp', 'punct'): 1,\n",
       "          ('ROOT', 'xcomp', 'prep', 'pobj'): 1,\n",
       "          ('ROOT', 'punct'): 1,\n",
       "          ('xcomp', 'punct'): 1,\n",
       "          ('xcomp', 'prep', 'pobj'): 1,\n",
       "          ('prep', 'pobj'): 1,\n",
       "          ('pobj',): 1}),\n",
       " Counter({('ROOT', 'punct'): 2,\n",
       "          ('punct',): 2,\n",
       "          ('ROOT', 'ccomp', 'nsubj'): 1,\n",
       "          ('ROOT', 'ccomp', 'aux'): 1,\n",
       "          ('ROOT', 'ccomp', 'dobj', 'det'): 1,\n",
       "          ('nsubj',): 1,\n",
       "          ('aux',): 1,\n",
       "          ('ccomp', 'nsubj'): 1,\n",
       "          ('ccomp', 'aux'): 1,\n",
       "          ('ccomp', 'dobj', 'det'): 1,\n",
       "          ('det',): 1,\n",
       "          ('dobj', 'det'): 1})]"
      ]
     },
     "execution_count": 5,
     "metadata": {},
     "output_type": "execute_result"
    }
   ],
   "source": [
    "dep_paths"
   ]
  },
  {
   "cell_type": "code",
   "execution_count": 6,
   "metadata": {},
   "outputs": [
    {
     "data": {
      "text/plain": [
       "[1, 0, 1, 0, 2, 1]"
      ]
     },
     "execution_count": 6,
     "metadata": {},
     "output_type": "execute_result"
    }
   ],
   "source": [
    "dep_num_clauses"
   ]
  },
  {
   "cell_type": "code",
   "execution_count": 3,
   "metadata": {},
   "outputs": [
    {
     "name": "stdout",
     "output_type": "stream",
     "text": [
      "(S (PP (IN In) (NP (NP (DT the) (NN heart)) (PP (IN of) (NP (NP (DT an) (JJ ancient) (NN library)) (, ,) (SBAR (WHADVP (WRB where)) (S (NP (NP (DT the) (NN dust)) (PP (IN of) (NP (VBN forgotten) (NN lore)))) (VP (VBD hung) (ADVP (RB thick)) (PP (IN in) (NP (DT the) (NN air)))))) (, ,))))) (NP (EX there)) (VP (VBD existed) (NP (NP (DT a) (NN tome)) (VP (VBN bound) (PP (RB not) (PP (IN in) (NP (NN leather))) (, ,) (CC but) (PP (IN in) (NP (NP (DT the) (JJ very) (NN fabric)) (PP (IN of) (NP (NN twilight))))))))) (. .))\n"
     ]
    },
    {
     "name": "stderr",
     "output_type": "stream",
     "text": [
      "/Users/mismayil/.pyenv/versions/3.10.14/envs/cs-gen/lib/python3.10/site-packages/torch/distributions/distribution.py:55: UserWarning: <class 'torch_struct.distributions.TreeCRF'> does not define `arg_constraints`. Please set `arg_constraints = {}` or initialize the distribution with `validate_args=False` to turn off validation.\n",
      "  warnings.warn(\n"
     ]
    }
   ],
   "source": [
    "from metrics import load_spacy_engine\n",
    "import benepar, spacy\n",
    "nlp = load_spacy_engine()\n",
    "# nlp.add_pipe('benepar', config={'model': 'benepar_en3'})\n",
    "text = \"In the heart of an ancient library, where the dust of forgotten lore hung thick in the air, there existed a tome bound not in leather, but in the very fabric of twilight. Its pages, scribed in an ethereal script, spoke of a realm where shadows held dominion and light dared not trespass. A curious scholar, whose eyes hungered for the secrets of the universe, traced the arcane words with a trembling finger, unwittingly offering a payment of his own shadow to the gloom that hungered for substance. As the last syllable echoed through the silent stacks, his silhouette detached from his feet and merged with the book, leaving him pale and luminous, a being of pure radiance in a world that had forgotten the sun. And so, in the library's deepest corner, the scholar's shadow lived on within the pages, a whisper of darkness in an existence now defined by endless light.\"\n",
    "doc = nlp(text)\n",
    "sent = list(doc.sents)[0]\n",
    "print(sent._.parse_string)\n",
    "# (S (NP (NP (DT The) (NN time)) (PP (IN for) (NP (NN action)))) (VP (VBZ is) (ADVP (RB now))) (. .))\n",
    "# print(sent._.labels)\n",
    "# ('S',)\n",
    "# print(list(sent._.children)[0])\n",
    "# The time for action\n",
    "# to visualize\n",
    "# https://brenocon.com/parseviz/"
   ]
  },
  {
   "cell_type": "markdown",
   "metadata": {},
   "source": []
  }
 ],
 "metadata": {
  "kernelspec": {
   "display_name": "cs-gen",
   "language": "python",
   "name": "python3"
  },
  "language_info": {
   "codemirror_mode": {
    "name": "ipython",
    "version": 3
   },
   "file_extension": ".py",
   "mimetype": "text/x-python",
   "name": "python",
   "nbconvert_exporter": "python",
   "pygments_lexer": "ipython3",
   "version": "3.10.14"
  }
 },
 "nbformat": 4,
 "nbformat_minor": 2
}
