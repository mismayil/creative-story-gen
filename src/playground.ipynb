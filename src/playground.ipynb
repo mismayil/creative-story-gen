{
 "cells": [
  {
   "cell_type": "code",
   "execution_count": 7,
   "metadata": {},
   "outputs": [],
   "source": [
    "from sentence_transformers import SentenceTransformer\n",
    "model = SentenceTransformer(\"thenlper/gte-large\")\n",
    "\n",
    "# Sentences we want to encode. Example:\n",
    "sentence = \"This framework generates embeddings for each input sentence\"\n",
    "\n",
    "# Sentences are encoded by calling model.encode()\n",
    "embedding = model.encode(sentence, output_value=\"token_embeddings\")"
   ]
  },
  {
   "cell_type": "code",
   "execution_count": 10,
   "metadata": {},
   "outputs": [
    {
     "data": {
      "text/plain": [
       "torch.Size([13, 1024])"
      ]
     },
     "execution_count": 10,
     "metadata": {},
     "output_type": "execute_result"
    }
   ],
   "source": [
    "embedding = model.encode(sentence, output_value=\"token_embeddings\")\n",
    "embedding.shape"
   ]
  },
  {
   "cell_type": "code",
   "execution_count": 11,
   "metadata": {},
   "outputs": [
    {
     "data": {
      "text/plain": [
       "torch.Size([1024])"
      ]
     },
     "execution_count": 11,
     "metadata": {},
     "output_type": "execute_result"
    }
   ],
   "source": [
    "embedding.mean(axis=0).shape"
   ]
  },
  {
   "cell_type": "code",
   "execution_count": 3,
   "metadata": {},
   "outputs": [
    {
     "name": "stdout",
     "output_type": "stream",
     "text": [
      "Cosine-Similarity: tensor([[0.7759, 0.6985, 0.6684],\n",
      "        [0.7003, 0.7053, 0.6812],\n",
      "        [0.6880, 0.6933, 0.7307]], device='mps:0')\n"
     ]
    }
   ],
   "source": [
    "w1 = \"payment\"\n",
    "w2 = \"onion\"\n",
    "\n",
    "# Compute the embeddings\n",
    "embedding1 = model.encode(w1, output_value=\"token_embeddings\")\n",
    "embedding2 = model.encode(w2, output_value=\"token_embeddings\")\n",
    "\n",
    "# Compute the cosine-similarity\n",
    "from sentence_transformers import SimilarityFunction\n",
    "\n",
    "cosine_fn = SimilarityFunction.to_similarity_fn(\"cosine\")\n",
    "cosine_score = cosine_fn(embedding1, embedding2)\n",
    "\n",
    "print(\"Cosine-Similarity:\", cosine_score)"
   ]
  },
  {
   "cell_type": "code",
   "execution_count": 5,
   "metadata": {},
   "outputs": [
    {
     "data": {
      "text/plain": [
       "torch.Size([3, 1024])"
      ]
     },
     "execution_count": 5,
     "metadata": {},
     "output_type": "execute_result"
    }
   ],
   "source": [
    "embedding2.shape"
   ]
  }
 ],
 "metadata": {
  "kernelspec": {
   "display_name": "cs-gen",
   "language": "python",
   "name": "python3"
  },
  "language_info": {
   "codemirror_mode": {
    "name": "ipython",
    "version": 3
   },
   "file_extension": ".py",
   "mimetype": "text/x-python",
   "name": "python",
   "nbconvert_exporter": "python",
   "pygments_lexer": "ipython3",
   "version": "3.10.14"
  }
 },
 "nbformat": 4,
 "nbformat_minor": 2
}
